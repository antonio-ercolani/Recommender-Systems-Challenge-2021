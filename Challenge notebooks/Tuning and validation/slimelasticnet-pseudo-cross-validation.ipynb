{
 "cells": [
  {
   "cell_type": "code",
   "execution_count": 1,
   "id": "398832b6",
   "metadata": {
    "execution": {
     "iopub.execute_input": "2021-12-31T11:41:09.719124Z",
     "iopub.status.busy": "2021-12-31T11:41:09.717898Z",
     "iopub.status.idle": "2021-12-31T11:41:12.159785Z",
     "shell.execute_reply": "2021-12-31T11:41:12.159046Z",
     "shell.execute_reply.started": "2021-12-21T17:01:48.979998Z"
    },
    "papermill": {
     "duration": 2.46308,
     "end_time": "2021-12-31T11:41:12.159987",
     "exception": false,
     "start_time": "2021-12-31T11:41:09.696907",
     "status": "completed"
    },
    "tags": []
   },
   "outputs": [],
   "source": [
    "!cp -r ../input/d/romanofrancesco/recsys-repo/RecSys_Course_AT_PoliMi-master/* ./"
   ]
  },
  {
   "cell_type": "code",
   "execution_count": 2,
   "id": "08550e52",
   "metadata": {
    "execution": {
     "iopub.execute_input": "2021-12-31T11:41:12.206459Z",
     "iopub.status.busy": "2021-12-31T11:41:12.205791Z",
     "iopub.status.idle": "2021-12-31T11:41:12.352853Z",
     "shell.execute_reply": "2021-12-31T11:41:12.353440Z",
     "shell.execute_reply.started": "2021-12-21T17:01:56.378232Z"
    },
    "papermill": {
     "duration": 0.17307,
     "end_time": "2021-12-31T11:41:12.353618",
     "exception": false,
     "start_time": "2021-12-31T11:41:12.180548",
     "status": "completed"
    },
    "tags": []
   },
   "outputs": [],
   "source": [
    "%config Completer.use_jedi = False\n",
    "import pandas as pd\n",
    "import numpy as np\n",
    "import scipy.sparse as sps\n",
    "import matplotlib.pyplot as pyplot\n",
    "from Data_manager.split_functions.split_train_validation_random_holdout import split_train_in_two_percentage_global_sample"
   ]
  },
  {
   "cell_type": "code",
   "execution_count": 3,
   "id": "9d1e32c6",
   "metadata": {
    "execution": {
     "iopub.execute_input": "2021-12-31T11:41:12.390792Z",
     "iopub.status.busy": "2021-12-31T11:41:12.389721Z",
     "iopub.status.idle": "2021-12-31T11:41:14.873990Z",
     "shell.execute_reply": "2021-12-31T11:41:14.873383Z",
     "shell.execute_reply.started": "2021-12-21T17:01:58.604764Z"
    },
    "papermill": {
     "duration": 2.502707,
     "end_time": "2021-12-31T11:41:14.874167",
     "exception": false,
     "start_time": "2021-12-31T11:41:12.371460",
     "status": "completed"
    },
    "tags": []
   },
   "outputs": [],
   "source": [
    "#load data_train, matrix of users interaction\n",
    "URM_path = \"../input/recommender-system-2021-challenge-polimi/data_train.csv\"\n",
    "URM_all_dataframe = pd.read_csv(filepath_or_buffer=URM_path, \n",
    "                                sep=\",\",\n",
    "                                dtype={0:int, 1:int, 2:float},\n",
    "                                header=0)\n",
    "URM_all_dataframe.columns = [\"UserID\", \"ItemID\", \"Interaction\"]"
   ]
  },
  {
   "cell_type": "code",
   "execution_count": 4,
   "id": "fb990e1d",
   "metadata": {
    "execution": {
     "iopub.execute_input": "2021-12-31T11:41:14.915862Z",
     "iopub.status.busy": "2021-12-31T11:41:14.915133Z",
     "iopub.status.idle": "2021-12-31T11:41:14.933327Z",
     "shell.execute_reply": "2021-12-31T11:41:14.932729Z",
     "shell.execute_reply.started": "2021-12-21T17:02:03.906763Z"
    },
    "papermill": {
     "duration": 0.043901,
     "end_time": "2021-12-31T11:41:14.933471",
     "exception": false,
     "start_time": "2021-12-31T11:41:14.889570",
     "status": "completed"
    },
    "tags": []
   },
   "outputs": [
    {
     "data": {
      "text/html": [
       "<div>\n",
       "<style scoped>\n",
       "    .dataframe tbody tr th:only-of-type {\n",
       "        vertical-align: middle;\n",
       "    }\n",
       "\n",
       "    .dataframe tbody tr th {\n",
       "        vertical-align: top;\n",
       "    }\n",
       "\n",
       "    .dataframe thead th {\n",
       "        text-align: right;\n",
       "    }\n",
       "</style>\n",
       "<table border=\"1\" class=\"dataframe\">\n",
       "  <thead>\n",
       "    <tr style=\"text-align: right;\">\n",
       "      <th></th>\n",
       "      <th>UserID</th>\n",
       "      <th>ItemID</th>\n",
       "      <th>Interaction</th>\n",
       "    </tr>\n",
       "  </thead>\n",
       "  <tbody>\n",
       "    <tr>\n",
       "      <th>0</th>\n",
       "      <td>0</td>\n",
       "      <td>53</td>\n",
       "      <td>1.0</td>\n",
       "    </tr>\n",
       "    <tr>\n",
       "      <th>1</th>\n",
       "      <td>0</td>\n",
       "      <td>209</td>\n",
       "      <td>1.0</td>\n",
       "    </tr>\n",
       "    <tr>\n",
       "      <th>2</th>\n",
       "      <td>0</td>\n",
       "      <td>223</td>\n",
       "      <td>1.0</td>\n",
       "    </tr>\n",
       "    <tr>\n",
       "      <th>3</th>\n",
       "      <td>0</td>\n",
       "      <td>249</td>\n",
       "      <td>1.0</td>\n",
       "    </tr>\n",
       "    <tr>\n",
       "      <th>4</th>\n",
       "      <td>0</td>\n",
       "      <td>435</td>\n",
       "      <td>1.0</td>\n",
       "    </tr>\n",
       "  </tbody>\n",
       "</table>\n",
       "</div>"
      ],
      "text/plain": [
       "   UserID  ItemID  Interaction\n",
       "0       0      53          1.0\n",
       "1       0     209          1.0\n",
       "2       0     223          1.0\n",
       "3       0     249          1.0\n",
       "4       0     435          1.0"
      ]
     },
     "execution_count": 4,
     "metadata": {},
     "output_type": "execute_result"
    }
   ],
   "source": [
    "URM_all_dataframe.head()"
   ]
  },
  {
   "cell_type": "code",
   "execution_count": 5,
   "id": "2b317ef1",
   "metadata": {
    "execution": {
     "iopub.execute_input": "2021-12-31T11:41:15.056464Z",
     "iopub.status.busy": "2021-12-31T11:41:15.055724Z",
     "iopub.status.idle": "2021-12-31T11:41:15.160574Z",
     "shell.execute_reply": "2021-12-31T11:41:15.161186Z",
     "shell.execute_reply.started": "2021-12-21T17:02:06.397623Z"
    },
    "papermill": {
     "duration": 0.134105,
     "end_time": "2021-12-31T11:41:15.161407",
     "exception": false,
     "start_time": "2021-12-31T11:41:15.027302",
     "status": "completed"
    },
    "tags": []
   },
   "outputs": [
    {
     "name": "stdout",
     "output_type": "stream",
     "text": [
      "Number of items\t 18059, Number of users\t 13650\n",
      "Max ID items\t 18058, Max Id users\t 13649\n",
      "\n",
      "Average interactions per user 387.23\n",
      "Average interactions per item 292.69\n",
      "\n",
      "Sparsity 97.86 %\n"
     ]
    }
   ],
   "source": [
    "userID_unique = URM_all_dataframe[\"UserID\"].unique()\n",
    "itemID_unique = URM_all_dataframe[\"ItemID\"].unique()\n",
    "\n",
    "n_users = len(userID_unique)\n",
    "n_items = len(itemID_unique)\n",
    "n_interactions = len(URM_all_dataframe)\n",
    "\n",
    "print (\"Number of items\\t {}, Number of users\\t {}\".format(n_items, n_users))\n",
    "print (\"Max ID items\\t {}, Max Id users\\t {}\\n\".format(max(itemID_unique), max(userID_unique)))\n",
    "print (\"Average interactions per user {:.2f}\".format(n_interactions/n_users))\n",
    "print (\"Average interactions per item {:.2f}\\n\".format(n_interactions/n_items))\n",
    "\n",
    "print (\"Sparsity {:.2f} %\".format((1-float(n_interactions)/(n_items*n_users))*100))"
   ]
  },
  {
   "cell_type": "code",
   "execution_count": 6,
   "id": "22335c74",
   "metadata": {
    "execution": {
     "iopub.execute_input": "2021-12-31T11:41:15.201057Z",
     "iopub.status.busy": "2021-12-31T11:41:15.200270Z",
     "iopub.status.idle": "2021-12-31T11:41:15.308508Z",
     "shell.execute_reply": "2021-12-31T11:41:15.309027Z",
     "shell.execute_reply.started": "2021-12-21T17:02:09.102884Z"
    },
    "papermill": {
     "duration": 0.131439,
     "end_time": "2021-12-31T11:41:15.309284",
     "exception": false,
     "start_time": "2021-12-31T11:41:15.177845",
     "status": "completed"
    },
    "tags": []
   },
   "outputs": [
    {
     "data": {
      "text/plain": [
       "<13650x18059 sparse matrix of type '<class 'numpy.float64'>'\n",
       "\twith 5285664 stored elements in Compressed Sparse Row format>"
      ]
     },
     "execution_count": 6,
     "metadata": {},
     "output_type": "execute_result"
    }
   ],
   "source": [
    "URM_all = sps.coo_matrix((URM_all_dataframe[\"Interaction\"].values, \n",
    "                          (URM_all_dataframe[\"UserID\"].values, URM_all_dataframe[\"ItemID\"].values)))\n",
    "URM_all = URM_all.tocsr() # to obtain fast access to rows (users)\n",
    "URM_all"
   ]
  },
  {
   "cell_type": "code",
   "execution_count": 7,
   "id": "c0571f47",
   "metadata": {
    "execution": {
     "iopub.execute_input": "2021-12-31T11:41:15.349282Z",
     "iopub.status.busy": "2021-12-31T11:41:15.348495Z",
     "iopub.status.idle": "2021-12-31T11:41:58.611244Z",
     "shell.execute_reply": "2021-12-31T11:41:58.611789Z",
     "shell.execute_reply.started": "2021-12-20T19:26:55.635542Z"
    },
    "papermill": {
     "duration": 43.285865,
     "end_time": "2021-12-31T11:41:58.611978",
     "exception": false,
     "start_time": "2021-12-31T11:41:15.326113",
     "status": "completed"
    },
    "tags": []
   },
   "outputs": [
    {
     "name": "stdout",
     "output_type": "stream",
     "text": [
      "Warning: 6 (0.04 %) of 13650 users have no sampled items\n",
      "Warning: 8 (0.06 %) of 13650 users have no sampled items\n",
      "Warning: 7 (0.05 %) of 13650 users have no sampled items\n"
     ]
    }
   ],
   "source": [
    "from Data_manager.split_functions.split_train_validation_random_holdout import split_train_in_two_percentage_global_sample\n",
    "\n",
    "# split data into train and validation data 80/20\n",
    "URM_train_1, URM_valid_1 = split_train_in_two_percentage_global_sample(URM_all, train_percentage = 0.80)\n",
    "URM_train_2, URM_valid_2 = split_train_in_two_percentage_global_sample(URM_all, train_percentage = 0.80)\n",
    "URM_train_3, URM_valid_3 = split_train_in_two_percentage_global_sample(URM_all, train_percentage = 0.80)"
   ]
  },
  {
   "cell_type": "code",
   "execution_count": 8,
   "id": "20cb733b",
   "metadata": {
    "execution": {
     "iopub.execute_input": "2021-12-31T11:41:58.653127Z",
     "iopub.status.busy": "2021-12-31T11:41:58.652448Z",
     "iopub.status.idle": "2021-12-31T11:41:58.813871Z",
     "shell.execute_reply": "2021-12-31T11:41:58.813336Z",
     "shell.execute_reply.started": "2021-12-20T19:27:29.183842Z"
    },
    "papermill": {
     "duration": 0.184668,
     "end_time": "2021-12-31T11:41:58.814009",
     "exception": false,
     "start_time": "2021-12-31T11:41:58.629341",
     "status": "completed"
    },
    "tags": []
   },
   "outputs": [
    {
     "name": "stdout",
     "output_type": "stream",
     "text": [
      "EvaluatorHoldout: Ignoring 13644 ( 0.0%) Users that have less than 1 test interactions\n",
      "EvaluatorHoldout: Ignoring 13642 ( 0.1%) Users that have less than 1 test interactions\n",
      "EvaluatorHoldout: Ignoring 13643 ( 0.1%) Users that have less than 1 test interactions\n"
     ]
    }
   ],
   "source": [
    "from Evaluation.Evaluator import EvaluatorHoldout\n",
    "\n",
    "#create an evaluator object to evaluate validation set\n",
    "#we will use it for hyperparameter tuning\n",
    "evaluator_valid_1 = EvaluatorHoldout(URM_valid_1, cutoff_list=[10])\n",
    "evaluator_valid_2 = EvaluatorHoldout(URM_valid_2, cutoff_list=[10])\n",
    "evaluator_valid_3 = EvaluatorHoldout(URM_valid_3, cutoff_list=[10])"
   ]
  },
  {
   "cell_type": "code",
   "execution_count": 9,
   "id": "d5369c80",
   "metadata": {
    "execution": {
     "iopub.execute_input": "2021-12-31T11:41:58.878075Z",
     "iopub.status.busy": "2021-12-31T11:41:58.853148Z",
     "iopub.status.idle": "2021-12-31T11:42:00.224059Z",
     "shell.execute_reply": "2021-12-31T11:42:00.224674Z",
     "shell.execute_reply.started": "2021-12-21T17:02:14.947091Z"
    },
    "papermill": {
     "duration": 1.392869,
     "end_time": "2021-12-31T11:42:00.224891",
     "exception": false,
     "start_time": "2021-12-31T11:41:58.832022",
     "status": "completed"
    },
    "tags": []
   },
   "outputs": [],
   "source": [
    "import numpy as np\n",
    "import scipy.sparse as sps\n",
    "from Recommenders.Recommender_utils import check_matrix\n",
    "from sklearn.linear_model import ElasticNet\n",
    "from Recommenders.BaseSimilarityMatrixRecommender import BaseItemSimilarityMatrixRecommender\n",
    "from Utils.seconds_to_biggest_unit import seconds_to_biggest_unit\n",
    "import time, sys\n",
    "from tqdm import tqdm\n",
    "from sklearn.utils._testing import ignore_warnings\n",
    "from sklearn.exceptions import ConvergenceWarning\n",
    "\n",
    "# os.environ[\"PYTHONWARNINGS\"] = ('ignore::exceptions.ConvergenceWarning:sklearn.linear_model')\n",
    "# os.environ[\"PYTHONWARNINGS\"] = ('ignore:Objective did not converge:ConvergenceWarning:')\n",
    "\n",
    "class SLIMElasticNetRecommender(BaseItemSimilarityMatrixRecommender):\n",
    "    \"\"\"\n",
    "    Train a Sparse Linear Methods (SLIM) item similarity model.\n",
    "    NOTE: ElasticNet solver is parallel, a single intance of SLIM_ElasticNet will\n",
    "          make use of half the cores available\n",
    "    See:\n",
    "        Efficient Top-N Recommendation by Linear Regression,\n",
    "        M. Levy and K. Jack, LSRS workshop at RecSys 2013.\n",
    "        SLIM: Sparse linear methods for top-n recommender systems,\n",
    "        X. Ning and G. Karypis, ICDM 2011.\n",
    "        http://glaros.dtc.umn.edu/gkhome/fetch/papers/SLIM2011icdm.pdf\n",
    "    \"\"\"\n",
    "\n",
    "    RECOMMENDER_NAME = \"SLIMElasticNetRecommender\"\n",
    "\n",
    "    def __init__(self, URM_train, verbose = True):\n",
    "        super(SLIMElasticNetRecommender, self).__init__(URM_train, verbose = verbose)\n",
    "\n",
    "    @ignore_warnings(category=ConvergenceWarning)\n",
    "    def fit(self, l1_ratio=0.1, alpha = 1.0, positive_only=True, topK = 100,**earlystopping_kwargs):\n",
    "\n",
    "        assert l1_ratio>= 0 and l1_ratio<=1, \"{}: l1_ratio must be between 0 and 1, provided value was {}\".format(self.RECOMMENDER_NAME, l1_ratio)\n",
    "\n",
    "        self.l1_ratio = l1_ratio\n",
    "        self.positive_only = positive_only\n",
    "        self.topK = topK\n",
    "\n",
    "\n",
    "        # initialize the ElasticNet model\n",
    "        self.model = ElasticNet(alpha=alpha,\n",
    "                                l1_ratio=self.l1_ratio,\n",
    "                                positive=self.positive_only,\n",
    "                                fit_intercept=False,\n",
    "                                copy_X=False,\n",
    "                                precompute=True,\n",
    "                                selection='random',\n",
    "                                max_iter=100,\n",
    "                                tol=1e-4)\n",
    "\n",
    "        URM_train = check_matrix(self.URM_train, 'csc', dtype=np.float32)\n",
    "\n",
    "        n_items = URM_train.shape[1]\n",
    "\n",
    "        # Use array as it reduces memory requirements compared to lists\n",
    "        dataBlock = 10000000\n",
    "\n",
    "        rows = np.zeros(dataBlock, dtype=np.int32)\n",
    "        cols = np.zeros(dataBlock, dtype=np.int32)\n",
    "        values = np.zeros(dataBlock, dtype=np.float32)\n",
    "\n",
    "        numCells = 0\n",
    "\n",
    "        start_time = time.time()\n",
    "        start_time_printBatch = start_time\n",
    "\n",
    "        # fit each item's factors sequentially (not in parallel)\n",
    "        for currentItem in range(n_items):\n",
    "\n",
    "            # get the target column\n",
    "            y = URM_train[:, currentItem].toarray()\n",
    "\n",
    "            # set the j-th column of X to zero\n",
    "            start_pos = URM_train.indptr[currentItem]\n",
    "            end_pos = URM_train.indptr[currentItem + 1]\n",
    "\n",
    "            current_item_data_backup = URM_train.data[start_pos: end_pos].copy()\n",
    "            URM_train.data[start_pos: end_pos] = 0.0\n",
    "\n",
    "            # fit one ElasticNet model per column\n",
    "            self.model.fit(URM_train, y)\n",
    "\n",
    "            # self.model.coef_ contains the coefficient of the ElasticNet model\n",
    "            # let's keep only the non-zero values\n",
    "\n",
    "            # Select topK values\n",
    "            # Sorting is done in three steps. Faster then plain np.argsort for higher number of items\n",
    "            # - Partition the data to extract the set of relevant items\n",
    "            # - Sort only the relevant items\n",
    "            # - Get the original item index\n",
    "\n",
    "            nonzero_model_coef_index = self.model.sparse_coef_.indices\n",
    "            nonzero_model_coef_value = self.model.sparse_coef_.data\n",
    "\n",
    "            local_topK = min(len(nonzero_model_coef_value)-1, self.topK)\n",
    "\n",
    "            relevant_items_partition = (-nonzero_model_coef_value).argpartition(local_topK)[0:local_topK]\n",
    "            relevant_items_partition_sorting = np.argsort(-nonzero_model_coef_value[relevant_items_partition])\n",
    "            ranking = relevant_items_partition[relevant_items_partition_sorting]\n",
    "\n",
    "            for index in range(len(ranking)):\n",
    "\n",
    "                if numCells == len(rows):\n",
    "                    rows = np.concatenate((rows, np.zeros(dataBlock, dtype=np.int32)))\n",
    "                    cols = np.concatenate((cols, np.zeros(dataBlock, dtype=np.int32)))\n",
    "                    values = np.concatenate((values, np.zeros(dataBlock, dtype=np.float32)))\n",
    "\n",
    "\n",
    "                rows[numCells] = nonzero_model_coef_index[ranking[index]]\n",
    "                cols[numCells] = currentItem\n",
    "                values[numCells] = nonzero_model_coef_value[ranking[index]]\n",
    "\n",
    "                numCells += 1\n",
    "\n",
    "            # finally, replace the original values of the j-th column\n",
    "            URM_train.data[start_pos:end_pos] = current_item_data_backup\n",
    "\n",
    "            elapsed_time = time.time() - start_time\n",
    "            new_time_value, new_time_unit = seconds_to_biggest_unit(elapsed_time)\n",
    "\n",
    "\n",
    "            if time.time() - start_time_printBatch > 300 or currentItem == n_items-1:\n",
    "                self._print(\"Processed {} ({:4.1f}%) in {:.2f} {}. Items per second: {:.2f}\".format(\n",
    "                    currentItem+1,\n",
    "                    100.0* float(currentItem+1)/n_items,\n",
    "                    new_time_value,\n",
    "                    new_time_unit,\n",
    "                    float(currentItem)/elapsed_time))\n",
    "\n",
    "                sys.stdout.flush()\n",
    "                sys.stderr.flush()\n",
    "\n",
    "                start_time_printBatch = time.time()\n",
    "\n",
    "        # generate the sparse weight matrix\n",
    "        self.W_sparse = sps.csr_matrix((values[:numCells], (rows[:numCells], cols[:numCells])),\n",
    "                                       shape=(n_items, n_items), dtype=np.float32)\n",
    "\n",
    "\n"
   ]
  },
  {
   "cell_type": "code",
   "execution_count": 10,
   "id": "7721d3fe",
   "metadata": {
    "execution": {
     "iopub.execute_input": "2021-12-31T11:42:00.265992Z",
     "iopub.status.busy": "2021-12-31T11:42:00.265227Z",
     "iopub.status.idle": "2021-12-31T13:48:42.112483Z",
     "shell.execute_reply": "2021-12-31T13:48:42.113016Z",
     "shell.execute_reply.started": "2021-12-20T19:31:10.496963Z"
    },
    "papermill": {
     "duration": 7601.870072,
     "end_time": "2021-12-31T13:48:42.113368",
     "exception": false,
     "start_time": "2021-12-31T11:42:00.243296",
     "status": "completed"
    },
    "tags": []
   },
   "outputs": [
    {
     "name": "stdout",
     "output_type": "stream",
     "text": [
      "SLIMElasticNetRecommender: Processed 1451 ( 8.0%) in 5.00 min. Items per second: 4.83\n",
      "SLIMElasticNetRecommender: Processed 2896 (16.0%) in 10.01 min. Items per second: 4.82\n",
      "SLIMElasticNetRecommender: Processed 4355 (24.1%) in 15.01 min. Items per second: 4.84\n",
      "SLIMElasticNetRecommender: Processed 5806 (32.2%) in 20.01 min. Items per second: 4.84\n",
      "SLIMElasticNetRecommender: Processed 7277 (40.3%) in 25.01 min. Items per second: 4.85\n",
      "SLIMElasticNetRecommender: Processed 8710 (48.2%) in 30.01 min. Items per second: 4.84\n",
      "SLIMElasticNetRecommender: Processed 10086 (55.9%) in 35.01 min. Items per second: 4.80\n",
      "SLIMElasticNetRecommender: Processed 11495 (63.7%) in 40.02 min. Items per second: 4.79\n",
      "SLIMElasticNetRecommender: Processed 12914 (71.5%) in 45.02 min. Items per second: 4.78\n",
      "SLIMElasticNetRecommender: Processed 14340 (79.4%) in 50.02 min. Items per second: 4.78\n",
      "SLIMElasticNetRecommender: Processed 15787 (87.4%) in 55.02 min. Items per second: 4.78\n",
      "SLIMElasticNetRecommender: Processed 17186 (95.2%) in 1.00 hour. Items per second: 4.77\n",
      "SLIMElasticNetRecommender: Processed 18059 (100.0%) in 1.05 hour. Items per second: 4.77\n",
      "SLIMElasticNetRecommender: Processed 1440 ( 8.0%) in 5.00 min. Items per second: 4.79\n",
      "SLIMElasticNetRecommender: Processed 2890 (16.0%) in 10.01 min. Items per second: 4.81\n",
      "SLIMElasticNetRecommender: Processed 4339 (24.0%) in 15.01 min. Items per second: 4.82\n",
      "SLIMElasticNetRecommender: Processed 5750 (31.8%) in 20.01 min. Items per second: 4.79\n",
      "SLIMElasticNetRecommender: Processed 7224 (40.0%) in 25.01 min. Items per second: 4.81\n",
      "SLIMElasticNetRecommender: Processed 8661 (48.0%) in 30.01 min. Items per second: 4.81\n",
      "SLIMElasticNetRecommender: Processed 10120 (56.0%) in 35.01 min. Items per second: 4.82\n",
      "SLIMElasticNetRecommender: Processed 11581 (64.1%) in 40.02 min. Items per second: 4.82\n",
      "SLIMElasticNetRecommender: Processed 13035 (72.2%) in 45.02 min. Items per second: 4.83\n",
      "SLIMElasticNetRecommender: Processed 14503 (80.3%) in 50.02 min. Items per second: 4.83\n",
      "SLIMElasticNetRecommender: Processed 15923 (88.2%) in 55.02 min. Items per second: 4.82\n",
      "SLIMElasticNetRecommender: Processed 17339 (96.0%) in 1.00 hour. Items per second: 4.81\n",
      "SLIMElasticNetRecommender: Processed 18059 (100.0%) in 1.04 hour. Items per second: 4.81\n",
      "EvaluatorHoldout: Processed 13644 (100.0%) in 30.81 sec. Users per second: 443\n",
      "(       PRECISION PRECISION_RECALL_MIN_DEN   RECALL       MAP MAP_MIN_DEN  \\\n",
      "cutoff                                                                     \n",
      "10      0.402448                 0.404332  0.07218  0.249571     0.25039   \n",
      "\n",
      "             MRR      NDCG        F1  HIT_RATE ARHR_ALL_HITS  ...  \\\n",
      "cutoff                                                        ...   \n",
      "10      0.646354  0.415951  0.122406  0.973248      1.248094  ...   \n",
      "\n",
      "       COVERAGE_ITEM_CORRECT COVERAGE_USER COVERAGE_USER_CORRECT  \\\n",
      "cutoff                                                             \n",
      "10                  0.053381       0.99956              0.972821   \n",
      "\n",
      "       DIVERSITY_GINI SHANNON_ENTROPY RATIO_DIVERSITY_HERFINDAHL  \\\n",
      "cutoff                                                             \n",
      "10           0.011143        7.915503                   0.992149   \n",
      "\n",
      "       RATIO_DIVERSITY_GINI RATIO_SHANNON_ENTROPY RATIO_AVERAGE_POPULARITY  \\\n",
      "cutoff                                                                       \n",
      "10                 0.044931              0.638826                 2.658307   \n",
      "\n",
      "       RATIO_NOVELTY  \n",
      "cutoff                \n",
      "10          0.026016  \n",
      "\n",
      "[1 rows x 25 columns], 'CUTOFF: 10 - PRECISION: 0.4024480, PRECISION_RECALL_MIN_DEN: 0.4043320, RECALL: 0.0721799, MAP: 0.2495706, MAP_MIN_DEN: 0.2503896, MRR: 0.6463537, NDCG: 0.4159506, F1: 0.1224060, HIT_RATE: 0.9732483, ARHR_ALL_HITS: 1.2480937, NOVELTY: 0.0055296, AVERAGE_POPULARITY: 0.5443370, DIVERSITY_MEAN_INTER_LIST: 0.9177350, DIVERSITY_HERFINDAHL: 0.9917668, COVERAGE_ITEM: 0.0754195, COVERAGE_ITEM_CORRECT: 0.0533806, COVERAGE_USER: 0.9995604, COVERAGE_USER_CORRECT: 0.9728205, DIVERSITY_GINI: 0.0111433, SHANNON_ENTROPY: 7.9155033, RATIO_DIVERSITY_HERFINDAHL: 0.9921492, RATIO_DIVERSITY_GINI: 0.0449305, RATIO_SHANNON_ENTROPY: 0.6388262, RATIO_AVERAGE_POPULARITY: 2.6583068, RATIO_NOVELTY: 0.0260156, \\n')\n",
      "EvaluatorHoldout: Processed 13644 (100.0%) in 29.65 sec. Users per second: 460\n",
      "(       PRECISION PRECISION_RECALL_MIN_DEN    RECALL       MAP MAP_MIN_DEN  \\\n",
      "cutoff                                                                      \n",
      "10      0.402433                 0.404378  0.072448  0.249064    0.249902   \n",
      "\n",
      "             MRR     NDCG        F1  HIT_RATE ARHR_ALL_HITS  ...  \\\n",
      "cutoff                                                       ...   \n",
      "10      0.644984  0.41559  0.122791  0.973541      1.245879  ...   \n",
      "\n",
      "       COVERAGE_ITEM_CORRECT COVERAGE_USER COVERAGE_USER_CORRECT  \\\n",
      "cutoff                                                             \n",
      "10                  0.057866       0.99956              0.973114   \n",
      "\n",
      "       DIVERSITY_GINI SHANNON_ENTROPY RATIO_DIVERSITY_HERFINDAHL  \\\n",
      "cutoff                                                             \n",
      "10           0.011994        8.013626                   0.992579   \n",
      "\n",
      "       RATIO_DIVERSITY_GINI RATIO_SHANNON_ENTROPY RATIO_AVERAGE_POPULARITY  \\\n",
      "cutoff                                                                       \n",
      "10                  0.04836              0.646745                 2.615312   \n",
      "\n",
      "       RATIO_NOVELTY  \n",
      "cutoff                \n",
      "10          0.026112  \n",
      "\n",
      "[1 rows x 25 columns], 'CUTOFF: 10 - PRECISION: 0.4024333, PRECISION_RECALL_MIN_DEN: 0.4043781, RECALL: 0.0724479, MAP: 0.2490643, MAP_MIN_DEN: 0.2499015, MRR: 0.6449838, NDCG: 0.4155905, F1: 0.1227905, HIT_RATE: 0.9735415, ARHR_ALL_HITS: 1.2458791, NOVELTY: 0.0055500, AVERAGE_POPULARITY: 0.5355331, DIVERSITY_MEAN_INTER_LIST: 0.9220302, DIVERSITY_HERFINDAHL: 0.9921963, COVERAGE_ITEM: 0.0817875, COVERAGE_ITEM_CORRECT: 0.0578659, COVERAGE_USER: 0.9995604, COVERAGE_USER_CORRECT: 0.9731136, DIVERSITY_GINI: 0.0119940, SHANNON_ENTROPY: 8.0136260, RATIO_DIVERSITY_HERFINDAHL: 0.9925789, RATIO_DIVERSITY_GINI: 0.0483603, RATIO_SHANNON_ENTROPY: 0.6467453, RATIO_AVERAGE_POPULARITY: 2.6153119, RATIO_NOVELTY: 0.0261117, \\n')\n"
     ]
    }
   ],
   "source": [
    "old_best_1 = SLIMElasticNetRecommender(URM_train_1)\n",
    "new_best_1 = SLIMElasticNetRecommender(URM_train_1)\n",
    "second_new_1 = SLIMElasticNetRecommender(URM_train_1)\n",
    "third_new_1 = SLIMElasticNetRecommender(URM_train_1)\n",
    "\n",
    "old_best_1.fit(l1_ratio = 0.001404017101088145, alpha = 0.06305313484275951, positive_only = True, topK = 2594)\n",
    "#new_best_1.fit(l1_ratio = 0.001906305898268216, alpha = 0.03398463666329234, topK = 2491)\n",
    "second_new_1.fit(l1_ratio = 0.002423126519631184, alpha = 0.04666719634930648, topK = 2289)\n",
    "#third_new_1.fit(l1_ratio = 0.0005542281941680019, alpha = 0.06726797924429088, topK = 2957)\n",
    "\n",
    "\n",
    "print(evaluator_valid_1.evaluateRecommender(old_best_1))\n",
    "#print(evaluator_valid_1.evaluateRecommender(new_best_1))\n",
    "print(evaluator_valid_1.evaluateRecommender(second_new_1))\n",
    "#print(evaluator_valid_1.evaluateRecommender(third_new_1))"
   ]
  },
  {
   "cell_type": "code",
   "execution_count": 11,
   "id": "04bff224",
   "metadata": {
    "execution": {
     "iopub.execute_input": "2021-12-31T13:48:42.175321Z",
     "iopub.status.busy": "2021-12-31T13:48:42.174610Z",
     "iopub.status.idle": "2021-12-31T15:54:00.666494Z",
     "shell.execute_reply": "2021-12-31T15:54:00.665871Z"
    },
    "papermill": {
     "duration": 7518.526115,
     "end_time": "2021-12-31T15:54:00.666663",
     "exception": false,
     "start_time": "2021-12-31T13:48:42.140548",
     "status": "completed"
    },
    "tags": []
   },
   "outputs": [
    {
     "name": "stdout",
     "output_type": "stream",
     "text": [
      "SLIMElasticNetRecommender: Processed 1412 ( 7.8%) in 5.00 min. Items per second: 4.70\n",
      "SLIMElasticNetRecommender: Processed 2859 (15.8%) in 10.00 min. Items per second: 4.76\n",
      "SLIMElasticNetRecommender: Processed 4314 (23.9%) in 15.00 min. Items per second: 4.79\n",
      "SLIMElasticNetRecommender: Processed 5742 (31.8%) in 20.01 min. Items per second: 4.78\n",
      "SLIMElasticNetRecommender: Processed 7186 (39.8%) in 25.01 min. Items per second: 4.79\n",
      "SLIMElasticNetRecommender: Processed 8635 (47.8%) in 30.01 min. Items per second: 4.79\n",
      "SLIMElasticNetRecommender: Processed 10076 (55.8%) in 35.01 min. Items per second: 4.80\n",
      "SLIMElasticNetRecommender: Processed 11514 (63.8%) in 40.01 min. Items per second: 4.80\n",
      "SLIMElasticNetRecommender: Processed 12998 (72.0%) in 45.02 min. Items per second: 4.81\n",
      "SLIMElasticNetRecommender: Processed 14484 (80.2%) in 50.02 min. Items per second: 4.83\n",
      "SLIMElasticNetRecommender: Processed 15951 (88.3%) in 55.02 min. Items per second: 4.83\n",
      "SLIMElasticNetRecommender: Processed 17390 (96.3%) in 1.00 hour. Items per second: 4.83\n",
      "SLIMElasticNetRecommender: Processed 18059 (100.0%) in 1.04 hour. Items per second: 4.83\n",
      "SLIMElasticNetRecommender: Processed 1470 ( 8.1%) in 5.00 min. Items per second: 4.90\n",
      "SLIMElasticNetRecommender: Processed 2938 (16.3%) in 10.00 min. Items per second: 4.89\n",
      "SLIMElasticNetRecommender: Processed 4400 (24.4%) in 15.00 min. Items per second: 4.89\n",
      "SLIMElasticNetRecommender: Processed 5893 (32.6%) in 20.00 min. Items per second: 4.91\n",
      "SLIMElasticNetRecommender: Processed 7370 (40.8%) in 25.01 min. Items per second: 4.91\n",
      "SLIMElasticNetRecommender: Processed 8851 (49.0%) in 30.01 min. Items per second: 4.92\n",
      "SLIMElasticNetRecommender: Processed 10323 (57.2%) in 35.01 min. Items per second: 4.91\n",
      "SLIMElasticNetRecommender: Processed 11802 (65.4%) in 40.01 min. Items per second: 4.92\n",
      "SLIMElasticNetRecommender: Processed 13257 (73.4%) in 45.01 min. Items per second: 4.91\n",
      "SLIMElasticNetRecommender: Processed 14675 (81.3%) in 50.02 min. Items per second: 4.89\n",
      "SLIMElasticNetRecommender: Processed 16075 (89.0%) in 55.02 min. Items per second: 4.87\n",
      "SLIMElasticNetRecommender: Processed 17516 (97.0%) in 1.00 hour. Items per second: 4.86\n",
      "SLIMElasticNetRecommender: Processed 18059 (100.0%) in 1.03 hour. Items per second: 4.86\n",
      "EvaluatorHoldout: Processed 13642 (100.0%) in 30.27 sec. Users per second: 451\n",
      "(       PRECISION PRECISION_RECALL_MIN_DEN    RECALL       MAP MAP_MIN_DEN  \\\n",
      "cutoff                                                                      \n",
      "10      0.401576                  0.40357  0.072217  0.248304    0.249294   \n",
      "\n",
      "             MRR      NDCG        F1  HIT_RATE ARHR_ALL_HITS  ...  \\\n",
      "cutoff                                                        ...   \n",
      "10      0.645324  0.414699  0.122418  0.973977      1.243037  ...   \n",
      "\n",
      "       COVERAGE_ITEM_CORRECT COVERAGE_USER COVERAGE_USER_CORRECT  \\\n",
      "cutoff                                                             \n",
      "10                  0.054156      0.999414              0.973407   \n",
      "\n",
      "       DIVERSITY_GINI SHANNON_ENTROPY RATIO_DIVERSITY_HERFINDAHL  \\\n",
      "cutoff                                                             \n",
      "10             0.0111        7.909357                   0.992122   \n",
      "\n",
      "       RATIO_DIVERSITY_GINI RATIO_SHANNON_ENTROPY RATIO_AVERAGE_POPULARITY  \\\n",
      "cutoff                                                                       \n",
      "10                 0.044793               0.63839                 2.661969   \n",
      "\n",
      "       RATIO_NOVELTY  \n",
      "cutoff                \n",
      "10          0.026007  \n",
      "\n",
      "[1 rows x 25 columns], 'CUTOFF: 10 - PRECISION: 0.4015760, PRECISION_RECALL_MIN_DEN: 0.4035700, RECALL: 0.0722166, MAP: 0.2483042, MAP_MIN_DEN: 0.2492945, MRR: 0.6453240, NDCG: 0.4146986, F1: 0.1224183, HIT_RATE: 0.9739774, ARHR_ALL_HITS: 1.2430368, NOVELTY: 0.0055273, AVERAGE_POPULARITY: 0.5428802, DIVERSITY_MEAN_INTER_LIST: 0.9174608, DIVERSITY_HERFINDAHL: 0.9917394, COVERAGE_ITEM: 0.0753641, COVERAGE_ITEM_CORRECT: 0.0541558, COVERAGE_USER: 0.9994139, COVERAGE_USER_CORRECT: 0.9734066, DIVERSITY_GINI: 0.0111001, SHANNON_ENTROPY: 7.9093566, RATIO_DIVERSITY_HERFINDAHL: 0.9921222, RATIO_DIVERSITY_GINI: 0.0447933, RATIO_SHANNON_ENTROPY: 0.6383899, RATIO_AVERAGE_POPULARITY: 2.6619687, RATIO_NOVELTY: 0.0260072, \\n')\n",
      "EvaluatorHoldout: Processed 13642 (100.0%) in 29.16 sec. Users per second: 468\n",
      "(       PRECISION PRECISION_RECALL_MIN_DEN    RECALL       MAP MAP_MIN_DEN  \\\n",
      "cutoff                                                                      \n",
      "10      0.401437                 0.403392  0.072156  0.248537    0.249539   \n",
      "\n",
      "             MRR      NDCG        F1  HIT_RATE ARHR_ALL_HITS  ...  \\\n",
      "cutoff                                                        ...   \n",
      "10      0.646102  0.414943  0.122324  0.973171      1.244814  ...   \n",
      "\n",
      "       COVERAGE_ITEM_CORRECT COVERAGE_USER COVERAGE_USER_CORRECT  \\\n",
      "cutoff                                                             \n",
      "10                  0.057201      0.999414              0.972601   \n",
      "\n",
      "       DIVERSITY_GINI SHANNON_ENTROPY RATIO_DIVERSITY_HERFINDAHL  \\\n",
      "cutoff                                                             \n",
      "10           0.011926         8.00642                   0.992555   \n",
      "\n",
      "       RATIO_DIVERSITY_GINI RATIO_SHANNON_ENTROPY RATIO_AVERAGE_POPULARITY  \\\n",
      "cutoff                                                                       \n",
      "10                 0.048128              0.646224                 2.618788   \n",
      "\n",
      "       RATIO_NOVELTY  \n",
      "cutoff                \n",
      "10          0.026102  \n",
      "\n",
      "[1 rows x 25 columns], 'CUTOFF: 10 - PRECISION: 0.4014367, PRECISION_RECALL_MIN_DEN: 0.4033917, RECALL: 0.0721555, MAP: 0.2485365, MAP_MIN_DEN: 0.2495393, MRR: 0.6461021, NDCG: 0.4149429, F1: 0.1223241, HIT_RATE: 0.9731711, ARHR_ALL_HITS: 1.2448140, NOVELTY: 0.0055474, AVERAGE_POPULARITY: 0.5340740, DIVERSITY_MEAN_INTER_LIST: 0.9217839, DIVERSITY_HERFINDAHL: 0.9921716, COVERAGE_ITEM: 0.0806800, COVERAGE_ITEM_CORRECT: 0.0572014, COVERAGE_USER: 0.9994139, COVERAGE_USER_CORRECT: 0.9726007, DIVERSITY_GINI: 0.0119265, SHANNON_ENTROPY: 8.0064204, RATIO_DIVERSITY_HERFINDAHL: 0.9925546, RATIO_DIVERSITY_GINI: 0.0481283, RATIO_SHANNON_ENTROPY: 0.6462242, RATIO_AVERAGE_POPULARITY: 2.6187881, RATIO_NOVELTY: 0.0261016, \\n')\n"
     ]
    }
   ],
   "source": [
    "old_best_2 = SLIMElasticNetRecommender(URM_train_2)\n",
    "new_best_2 = SLIMElasticNetRecommender(URM_train_2)\n",
    "second_new_2 = SLIMElasticNetRecommender(URM_train_2)\n",
    "third_new_2 = SLIMElasticNetRecommender(URM_train_2)\n",
    "\n",
    "old_best_2.fit(l1_ratio = 0.001404017101088145, alpha = 0.06305313484275951, positive_only = True, topK = 2594)\n",
    "#new_best_2.fit(l1_ratio = 0.001906305898268216, alpha = 0.03398463666329234, topK = 2491)\n",
    "second_new_2.fit(l1_ratio = 0.002423126519631184, alpha = 0.04666719634930648, topK = 2289)\n",
    "#third_new_2.fit(l1_ratio = 0.0005542281941680019, alpha = 0.06726797924429088, topK = 2957)\n",
    "\n",
    "\n",
    "print(evaluator_valid_2.evaluateRecommender(old_best_2))\n",
    "#print(evaluator_valid_2.evaluateRecommender(new_best_2))\n",
    "print(evaluator_valid_2.evaluateRecommender(second_new_2))\n",
    "#print(evaluator_valid_2.evaluateRecommender(third_new_2))"
   ]
  },
  {
   "cell_type": "code",
   "execution_count": 12,
   "id": "7246281f",
   "metadata": {
    "execution": {
     "iopub.execute_input": "2021-12-31T15:54:00.749473Z",
     "iopub.status.busy": "2021-12-31T15:54:00.748673Z",
     "iopub.status.idle": "2021-12-31T18:01:17.129865Z",
     "shell.execute_reply": "2021-12-31T18:01:17.129095Z"
    },
    "papermill": {
     "duration": 7636.425946,
     "end_time": "2021-12-31T18:01:17.130147",
     "exception": false,
     "start_time": "2021-12-31T15:54:00.704201",
     "status": "completed"
    },
    "tags": []
   },
   "outputs": [
    {
     "name": "stdout",
     "output_type": "stream",
     "text": [
      "SLIMElasticNetRecommender: Processed 1389 ( 7.7%) in 5.00 min. Items per second: 4.63\n",
      "SLIMElasticNetRecommender: Processed 2802 (15.5%) in 10.00 min. Items per second: 4.67\n",
      "SLIMElasticNetRecommender: Processed 4248 (23.5%) in 15.00 min. Items per second: 4.72\n",
      "SLIMElasticNetRecommender: Processed 5702 (31.6%) in 20.01 min. Items per second: 4.75\n",
      "SLIMElasticNetRecommender: Processed 7153 (39.6%) in 25.01 min. Items per second: 4.77\n",
      "SLIMElasticNetRecommender: Processed 8528 (47.2%) in 30.01 min. Items per second: 4.74\n",
      "SLIMElasticNetRecommender: Processed 9864 (54.6%) in 35.01 min. Items per second: 4.70\n",
      "SLIMElasticNetRecommender: Processed 11272 (62.4%) in 40.01 min. Items per second: 4.69\n",
      "SLIMElasticNetRecommender: Processed 12694 (70.3%) in 45.02 min. Items per second: 4.70\n",
      "SLIMElasticNetRecommender: Processed 14074 (77.9%) in 50.02 min. Items per second: 4.69\n",
      "SLIMElasticNetRecommender: Processed 15476 (85.7%) in 55.02 min. Items per second: 4.69\n",
      "SLIMElasticNetRecommender: Processed 16903 (93.6%) in 1.00 hour. Items per second: 4.69\n",
      "SLIMElasticNetRecommender: Processed 18059 (100.0%) in 1.07 hour. Items per second: 4.70\n",
      "SLIMElasticNetRecommender: Processed 1439 ( 8.0%) in 5.00 min. Items per second: 4.79\n",
      "SLIMElasticNetRecommender: Processed 2862 (15.8%) in 10.00 min. Items per second: 4.77\n",
      "SLIMElasticNetRecommender: Processed 4313 (23.9%) in 15.00 min. Items per second: 4.79\n",
      "SLIMElasticNetRecommender: Processed 5766 (31.9%) in 20.00 min. Items per second: 4.80\n",
      "SLIMElasticNetRecommender: Processed 7223 (40.0%) in 25.01 min. Items per second: 4.81\n",
      "SLIMElasticNetRecommender: Processed 8672 (48.0%) in 30.01 min. Items per second: 4.82\n",
      "SLIMElasticNetRecommender: Processed 10119 (56.0%) in 35.01 min. Items per second: 4.82\n",
      "SLIMElasticNetRecommender: Processed 11590 (64.2%) in 40.01 min. Items per second: 4.83\n",
      "SLIMElasticNetRecommender: Processed 13021 (72.1%) in 45.02 min. Items per second: 4.82\n",
      "SLIMElasticNetRecommender: Processed 14485 (80.2%) in 50.02 min. Items per second: 4.83\n",
      "SLIMElasticNetRecommender: Processed 15961 (88.4%) in 55.02 min. Items per second: 4.83\n",
      "SLIMElasticNetRecommender: Processed 17434 (96.5%) in 1.00 hour. Items per second: 4.84\n",
      "SLIMElasticNetRecommender: Processed 18059 (100.0%) in 1.04 hour. Items per second: 4.84\n",
      "EvaluatorHoldout: Processed 13643 (100.0%) in 31.00 sec. Users per second: 440\n",
      "(       PRECISION PRECISION_RECALL_MIN_DEN    RECALL       MAP MAP_MIN_DEN  \\\n",
      "cutoff                                                                      \n",
      "10       0.40368                  0.40549  0.072523  0.249326    0.250203   \n",
      "\n",
      "             MRR      NDCG        F1  HIT_RATE ARHR_ALL_HITS  ...  \\\n",
      "cutoff                                                        ...   \n",
      "10      0.645468  0.416032  0.122956  0.972587      1.245503  ...   \n",
      "\n",
      "       COVERAGE_ITEM_CORRECT COVERAGE_USER COVERAGE_USER_CORRECT  \\\n",
      "cutoff                                                             \n",
      "10                  0.052938      0.999487              0.972088   \n",
      "\n",
      "       DIVERSITY_GINI SHANNON_ENTROPY RATIO_DIVERSITY_HERFINDAHL  \\\n",
      "cutoff                                                             \n",
      "10           0.011129        7.919023                    0.99222   \n",
      "\n",
      "       RATIO_DIVERSITY_GINI RATIO_SHANNON_ENTROPY RATIO_AVERAGE_POPULARITY  \\\n",
      "cutoff                                                                       \n",
      "10                 0.044889              0.639131                 2.654482   \n",
      "\n",
      "       RATIO_NOVELTY  \n",
      "cutoff                \n",
      "10          0.026019  \n",
      "\n",
      "[1 rows x 25 columns], 'CUTOFF: 10 - PRECISION: 0.4036795, PRECISION_RECALL_MIN_DEN: 0.4054901, RECALL: 0.0725226, MAP: 0.2493262, MAP_MIN_DEN: 0.2502031, MRR: 0.6454685, NDCG: 0.4160322, F1: 0.1229557, HIT_RATE: 0.9725867, ARHR_ALL_HITS: 1.2455028, NOVELTY: 0.0055302, AVERAGE_POPULARITY: 0.5413660, DIVERSITY_MEAN_INTER_LIST: 0.9184379, DIVERSITY_HERFINDAHL: 0.9918371, COVERAGE_ITEM: 0.0750318, COVERAGE_ITEM_CORRECT: 0.0529376, COVERAGE_USER: 0.9994872, COVERAGE_USER_CORRECT: 0.9720879, DIVERSITY_GINI: 0.0111295, SHANNON_ENTROPY: 7.9190234, RATIO_DIVERSITY_HERFINDAHL: 0.9922197, RATIO_DIVERSITY_GINI: 0.0448894, RATIO_SHANNON_ENTROPY: 0.6391306, RATIO_AVERAGE_POPULARITY: 2.6544823, RATIO_NOVELTY: 0.0260191, \\n')\n",
      "EvaluatorHoldout: Processed 13643 (100.0%) in 28.79 sec. Users per second: 474\n",
      "(       PRECISION PRECISION_RECALL_MIN_DEN    RECALL       MAP MAP_MIN_DEN  \\\n",
      "cutoff                                                                      \n",
      "10       0.40354                 0.405374  0.072658  0.248948    0.249841   \n",
      "\n",
      "             MRR      NDCG        F1  HIT_RATE ARHR_ALL_HITS  ...  \\\n",
      "cutoff                                                        ...   \n",
      "10      0.644223  0.415632  0.123144  0.973613      1.243463  ...   \n",
      "\n",
      "       COVERAGE_ITEM_CORRECT COVERAGE_USER COVERAGE_USER_CORRECT  \\\n",
      "cutoff                                                             \n",
      "10                  0.057368      0.999487              0.973114   \n",
      "\n",
      "       DIVERSITY_GINI SHANNON_ENTROPY RATIO_DIVERSITY_HERFINDAHL  \\\n",
      "cutoff                                                             \n",
      "10           0.011986        8.017507                   0.992647   \n",
      "\n",
      "       RATIO_DIVERSITY_GINI RATIO_SHANNON_ENTROPY RATIO_AVERAGE_POPULARITY  \\\n",
      "cutoff                                                                       \n",
      "10                 0.048342              0.647079                 2.611256   \n",
      "\n",
      "       RATIO_NOVELTY  \n",
      "cutoff                \n",
      "10          0.026115  \n",
      "\n",
      "[1 rows x 25 columns], 'CUTOFF: 10 - PRECISION: 0.4035403, PRECISION_RECALL_MIN_DEN: 0.4053741, RECALL: 0.0726579, MAP: 0.2489475, MAP_MIN_DEN: 0.2498408, MRR: 0.6442226, NDCG: 0.4156322, F1: 0.1231436, HIT_RATE: 0.9736128, ARHR_ALL_HITS: 1.2434630, NOVELTY: 0.0055506, AVERAGE_POPULARITY: 0.5325502, DIVERSITY_MEAN_INTER_LIST: 0.9227147, DIVERSITY_HERFINDAHL: 0.9922647, COVERAGE_ITEM: 0.0817321, COVERAGE_ITEM_CORRECT: 0.0573675, COVERAGE_USER: 0.9994872, COVERAGE_USER_CORRECT: 0.9731136, DIVERSITY_GINI: 0.0119856, SHANNON_ENTROPY: 8.0175070, RATIO_DIVERSITY_HERFINDAHL: 0.9926475, RATIO_DIVERSITY_GINI: 0.0483422, RATIO_SHANNON_ENTROPY: 0.6470791, RATIO_AVERAGE_POPULARITY: 2.6112556, RATIO_NOVELTY: 0.0261153, \\n')\n"
     ]
    }
   ],
   "source": [
    "old_best_3 = SLIMElasticNetRecommender(URM_train_3)\n",
    "new_best_3 = SLIMElasticNetRecommender(URM_train_3)\n",
    "second_new_3 = SLIMElasticNetRecommender(URM_train_3)\n",
    "\n",
    "old_best_3.fit(l1_ratio = 0.001404017101088145, alpha = 0.06305313484275951, positive_only = True, topK = 2594)\n",
    "#new_best_3.fit(l1_ratio = 0.001650183611841036, alpha = 0.04590266290018709, topK = 3853)\n",
    "second_new_3.fit(l1_ratio = 0.002423126519631184, alpha = 0.04666719634930648, topK = 2289)\n",
    "\n",
    "print(evaluator_valid_3.evaluateRecommender(old_best_3))\n",
    "#print(evaluator_valid_3.evaluateRecommender(new_best_3))\n",
    "print(evaluator_valid_3.evaluateRecommender(second_new_3))"
   ]
  },
  {
   "cell_type": "markdown",
   "id": "cca5c482",
   "metadata": {
    "papermill": {
     "duration": 0.046502,
     "end_time": "2021-12-31T18:01:17.222515",
     "exception": false,
     "start_time": "2021-12-31T18:01:17.176013",
     "status": "completed"
    },
    "tags": []
   },
   "source": [
    "new_best tuning seems better over 3 different splits"
   ]
  },
  {
   "cell_type": "markdown",
   "id": "9a86c9af",
   "metadata": {
    "papermill": {
     "duration": 0.04587,
     "end_time": "2021-12-31T18:01:17.315638",
     "exception": false,
     "start_time": "2021-12-31T18:01:17.269768",
     "status": "completed"
    },
    "tags": []
   },
   "source": [
    "# Create final recommendations"
   ]
  },
  {
   "cell_type": "code",
   "execution_count": 13,
   "id": "15a4309b",
   "metadata": {
    "execution": {
     "iopub.execute_input": "2021-12-31T18:01:17.412536Z",
     "iopub.status.busy": "2021-12-31T18:01:17.411837Z",
     "iopub.status.idle": "2021-12-31T19:23:19.409498Z",
     "shell.execute_reply": "2021-12-31T19:23:19.410029Z",
     "shell.execute_reply.started": "2021-12-21T17:12:48.123791Z"
    },
    "papermill": {
     "duration": 4922.049443,
     "end_time": "2021-12-31T19:23:19.410367",
     "exception": false,
     "start_time": "2021-12-31T18:01:17.360924",
     "status": "completed"
    },
    "tags": []
   },
   "outputs": [
    {
     "name": "stdout",
     "output_type": "stream",
     "text": [
      "SLIMElasticNetRecommender: Processed 1103 ( 6.1%) in 5.00 min. Items per second: 3.67\n",
      "SLIMElasticNetRecommender: Processed 2266 (12.5%) in 10.00 min. Items per second: 3.77\n",
      "SLIMElasticNetRecommender: Processed 3431 (19.0%) in 15.00 min. Items per second: 3.81\n",
      "SLIMElasticNetRecommender: Processed 4588 (25.4%) in 20.01 min. Items per second: 3.82\n",
      "SLIMElasticNetRecommender: Processed 5737 (31.8%) in 25.01 min. Items per second: 3.82\n",
      "SLIMElasticNetRecommender: Processed 6910 (38.3%) in 30.01 min. Items per second: 3.84\n",
      "SLIMElasticNetRecommender: Processed 8065 (44.7%) in 35.02 min. Items per second: 3.84\n",
      "SLIMElasticNetRecommender: Processed 9188 (50.9%) in 40.02 min. Items per second: 3.83\n",
      "SLIMElasticNetRecommender: Processed 10286 (57.0%) in 45.02 min. Items per second: 3.81\n",
      "SLIMElasticNetRecommender: Processed 11423 (63.3%) in 50.02 min. Items per second: 3.81\n",
      "SLIMElasticNetRecommender: Processed 12547 (69.5%) in 55.02 min. Items per second: 3.80\n",
      "SLIMElasticNetRecommender: Processed 13635 (75.5%) in 1.00 hour. Items per second: 3.79\n",
      "SLIMElasticNetRecommender: Processed 14652 (81.1%) in 1.08 hour. Items per second: 3.76\n",
      "SLIMElasticNetRecommender: Processed 15658 (86.7%) in 1.17 hour. Items per second: 3.73\n",
      "SLIMElasticNetRecommender: Processed 16670 (92.3%) in 1.25 hour. Items per second: 3.70\n",
      "SLIMElasticNetRecommender: Processed 17659 (97.8%) in 1.33 hour. Items per second: 3.68\n",
      "SLIMElasticNetRecommender: Processed 18059 (100.0%) in 1.37 hour. Items per second: 3.67\n"
     ]
    }
   ],
   "source": [
    "#let's fit the model with the hyperparamethers obtained from the previous search and evaluate them on validation set\n",
    "\n",
    "recommender = SLIMElasticNetRecommender(URM_all)\n",
    "recommender.fit(l1_ratio = 0.001650183611841036, alpha = 0.04590266290018709, topK = 3853)\n",
    "#evaluator_valid.evaluateRecommender(recommender)"
   ]
  },
  {
   "cell_type": "code",
   "execution_count": 14,
   "id": "4a67df72",
   "metadata": {
    "execution": {
     "iopub.execute_input": "2021-12-31T19:23:19.533052Z",
     "iopub.status.busy": "2021-12-31T19:23:19.532379Z",
     "iopub.status.idle": "2021-12-31T19:23:19.578652Z",
     "shell.execute_reply": "2021-12-31T19:23:19.577941Z",
     "shell.execute_reply.started": "2021-12-21T18:24:54.255929Z"
    },
    "papermill": {
     "duration": 0.115706,
     "end_time": "2021-12-31T19:23:19.578817",
     "exception": false,
     "start_time": "2021-12-31T19:23:19.463111",
     "status": "completed"
    },
    "tags": []
   },
   "outputs": [
    {
     "data": {
      "text/html": [
       "<div>\n",
       "<style scoped>\n",
       "    .dataframe tbody tr th:only-of-type {\n",
       "        vertical-align: middle;\n",
       "    }\n",
       "\n",
       "    .dataframe tbody tr th {\n",
       "        vertical-align: top;\n",
       "    }\n",
       "\n",
       "    .dataframe thead th {\n",
       "        text-align: right;\n",
       "    }\n",
       "</style>\n",
       "<table border=\"1\" class=\"dataframe\">\n",
       "  <thead>\n",
       "    <tr style=\"text-align: right;\">\n",
       "      <th></th>\n",
       "      <th>user_id</th>\n",
       "    </tr>\n",
       "  </thead>\n",
       "  <tbody>\n",
       "    <tr>\n",
       "      <th>0</th>\n",
       "      <td>0</td>\n",
       "    </tr>\n",
       "    <tr>\n",
       "      <th>1</th>\n",
       "      <td>1</td>\n",
       "    </tr>\n",
       "    <tr>\n",
       "      <th>2</th>\n",
       "      <td>2</td>\n",
       "    </tr>\n",
       "    <tr>\n",
       "      <th>3</th>\n",
       "      <td>3</td>\n",
       "    </tr>\n",
       "    <tr>\n",
       "      <th>4</th>\n",
       "      <td>4</td>\n",
       "    </tr>\n",
       "    <tr>\n",
       "      <th>...</th>\n",
       "      <td>...</td>\n",
       "    </tr>\n",
       "    <tr>\n",
       "      <th>13645</th>\n",
       "      <td>13645</td>\n",
       "    </tr>\n",
       "    <tr>\n",
       "      <th>13646</th>\n",
       "      <td>13646</td>\n",
       "    </tr>\n",
       "    <tr>\n",
       "      <th>13647</th>\n",
       "      <td>13647</td>\n",
       "    </tr>\n",
       "    <tr>\n",
       "      <th>13648</th>\n",
       "      <td>13648</td>\n",
       "    </tr>\n",
       "    <tr>\n",
       "      <th>13649</th>\n",
       "      <td>13649</td>\n",
       "    </tr>\n",
       "  </tbody>\n",
       "</table>\n",
       "<p>13650 rows × 1 columns</p>\n",
       "</div>"
      ],
      "text/plain": [
       "       user_id\n",
       "0            0\n",
       "1            1\n",
       "2            2\n",
       "3            3\n",
       "4            4\n",
       "...        ...\n",
       "13645    13645\n",
       "13646    13646\n",
       "13647    13647\n",
       "13648    13648\n",
       "13649    13649\n",
       "\n",
       "[13650 rows x 1 columns]"
      ]
     },
     "execution_count": 14,
     "metadata": {},
     "output_type": "execute_result"
    }
   ],
   "source": [
    "test_users = pd.read_csv('../input/recommender-system-2021-challenge-polimi/data_target_users_test.csv')\n",
    "test_users"
   ]
  },
  {
   "cell_type": "code",
   "execution_count": 15,
   "id": "36eeb5dc",
   "metadata": {
    "execution": {
     "iopub.execute_input": "2021-12-31T19:23:19.694329Z",
     "iopub.status.busy": "2021-12-31T19:23:19.693602Z",
     "iopub.status.idle": "2021-12-31T19:23:45.157022Z",
     "shell.execute_reply": "2021-12-31T19:23:45.157674Z",
     "shell.execute_reply.started": "2021-12-21T18:24:57.735048Z"
    },
    "papermill": {
     "duration": 25.526173,
     "end_time": "2021-12-31T19:23:45.157901",
     "exception": false,
     "start_time": "2021-12-31T19:23:19.631728",
     "status": "completed"
    },
    "tags": []
   },
   "outputs": [],
   "source": [
    "user_id = test_users['user_id']\n",
    "recommendations = []\n",
    "for user in user_id:\n",
    "    recommendations.append(recommender.recommend(user,cutoff = 10))"
   ]
  },
  {
   "cell_type": "code",
   "execution_count": 16,
   "id": "faa8fbb1",
   "metadata": {
    "execution": {
     "iopub.execute_input": "2021-12-31T19:23:45.266035Z",
     "iopub.status.busy": "2021-12-31T19:23:45.265351Z",
     "iopub.status.idle": "2021-12-31T19:23:46.264108Z",
     "shell.execute_reply": "2021-12-31T19:23:46.263453Z",
     "shell.execute_reply.started": "2021-12-21T18:25:52.334237Z"
    },
    "papermill": {
     "duration": 1.054287,
     "end_time": "2021-12-31T19:23:46.264283",
     "exception": false,
     "start_time": "2021-12-31T19:23:45.209996",
     "status": "completed"
    },
    "tags": []
   },
   "outputs": [],
   "source": [
    "for index in range(len(recommendations)):\n",
    "    recommendations[index]=np.array(recommendations[index])\n",
    "    \n",
    "test_users['item_list']= recommendations\n",
    "test_users['item_list'] = pd.DataFrame([str(line).strip('[').strip(']').replace(\"'\",\"\") for line in test_users['item_list']])\n",
    "test_users.to_csv('submission.csv', index=False)"
   ]
  }
 ],
 "metadata": {
  "kernelspec": {
   "display_name": "Python 3",
   "language": "python",
   "name": "python3"
  },
  "language_info": {
   "codemirror_mode": {
    "name": "ipython",
    "version": 3
   },
   "file_extension": ".py",
   "mimetype": "text/x-python",
   "name": "python",
   "nbconvert_exporter": "python",
   "pygments_lexer": "ipython3",
   "version": "3.7.10"
  },
  "papermill": {
   "default_parameters": {},
   "duration": 27768.30708,
   "end_time": "2021-12-31T19:23:47.991755",
   "environment_variables": {},
   "exception": null,
   "input_path": "__notebook__.ipynb",
   "output_path": "__notebook__.ipynb",
   "parameters": {},
   "start_time": "2021-12-31T11:40:59.684675",
   "version": "2.3.3"
  }
 },
 "nbformat": 4,
 "nbformat_minor": 5
}
