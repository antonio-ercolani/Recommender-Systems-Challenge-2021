{
 "cells": [
  {
   "cell_type": "code",
   "execution_count": 1,
   "id": "5ded3ccd",
   "metadata": {
    "execution": {
     "iopub.execute_input": "2021-12-30T21:30:19.828648Z",
     "iopub.status.busy": "2021-12-30T21:30:19.827795Z",
     "iopub.status.idle": "2021-12-30T21:30:22.261315Z",
     "shell.execute_reply": "2021-12-30T21:30:22.260309Z",
     "shell.execute_reply.started": "2021-12-21T17:27:46.630716Z"
    },
    "papermill": {
     "duration": 2.475189,
     "end_time": "2021-12-30T21:30:22.261539",
     "exception": false,
     "start_time": "2021-12-30T21:30:19.786350",
     "status": "completed"
    },
    "tags": []
   },
   "outputs": [],
   "source": [
    "!cp -r ../input/d/romanofrancesco/recsys-repo/RecSys_Course_AT_PoliMi-master/* ./"
   ]
  },
  {
   "cell_type": "code",
   "execution_count": 2,
   "id": "039d2e29",
   "metadata": {
    "execution": {
     "iopub.execute_input": "2021-12-30T21:30:22.313841Z",
     "iopub.status.busy": "2021-12-30T21:30:22.312813Z",
     "iopub.status.idle": "2021-12-30T21:30:22.466713Z",
     "shell.execute_reply": "2021-12-30T21:30:22.465997Z",
     "shell.execute_reply.started": "2021-12-21T17:27:54.729484Z"
    },
    "papermill": {
     "duration": 0.18094,
     "end_time": "2021-12-30T21:30:22.466886",
     "exception": false,
     "start_time": "2021-12-30T21:30:22.285946",
     "status": "completed"
    },
    "tags": []
   },
   "outputs": [],
   "source": [
    "%config Completer.use_jedi = False\n",
    "import pandas as pd\n",
    "import numpy as np\n",
    "import scipy.sparse as sps\n",
    "import matplotlib.pyplot as pyplot\n",
    "from Data_manager.split_functions.split_train_validation_random_holdout import split_train_in_two_percentage_global_sample"
   ]
  },
  {
   "cell_type": "code",
   "execution_count": 3,
   "id": "5355c576",
   "metadata": {
    "execution": {
     "iopub.execute_input": "2021-12-30T21:30:22.521658Z",
     "iopub.status.busy": "2021-12-30T21:30:22.520780Z",
     "iopub.status.idle": "2021-12-30T21:30:24.991480Z",
     "shell.execute_reply": "2021-12-30T21:30:24.990833Z",
     "shell.execute_reply.started": "2021-12-21T17:27:57.131527Z"
    },
    "papermill": {
     "duration": 2.501324,
     "end_time": "2021-12-30T21:30:24.991639",
     "exception": false,
     "start_time": "2021-12-30T21:30:22.490315",
     "status": "completed"
    },
    "tags": []
   },
   "outputs": [],
   "source": [
    "#load data_train, matrix of users interaction\n",
    "URM_path = \"../input/recommender-system-2021-challenge-polimi/data_train.csv\"\n",
    "URM_all_dataframe = pd.read_csv(filepath_or_buffer=URM_path, \n",
    "                                sep=\",\",\n",
    "                                dtype={0:int, 1:int, 2:float},\n",
    "                                header=0)\n",
    "URM_all_dataframe.columns = [\"UserID\", \"ItemID\", \"Interaction\"]"
   ]
  },
  {
   "cell_type": "code",
   "execution_count": 4,
   "id": "0cbcacaa",
   "metadata": {
    "execution": {
     "iopub.execute_input": "2021-12-30T21:30:25.049066Z",
     "iopub.status.busy": "2021-12-30T21:30:25.047539Z",
     "iopub.status.idle": "2021-12-30T21:30:25.064293Z",
     "shell.execute_reply": "2021-12-30T21:30:25.064821Z",
     "shell.execute_reply.started": "2021-12-21T17:28:05.169839Z"
    },
    "papermill": {
     "duration": 0.049335,
     "end_time": "2021-12-30T21:30:25.064992",
     "exception": false,
     "start_time": "2021-12-30T21:30:25.015657",
     "status": "completed"
    },
    "tags": []
   },
   "outputs": [
    {
     "data": {
      "text/html": [
       "<div>\n",
       "<style scoped>\n",
       "    .dataframe tbody tr th:only-of-type {\n",
       "        vertical-align: middle;\n",
       "    }\n",
       "\n",
       "    .dataframe tbody tr th {\n",
       "        vertical-align: top;\n",
       "    }\n",
       "\n",
       "    .dataframe thead th {\n",
       "        text-align: right;\n",
       "    }\n",
       "</style>\n",
       "<table border=\"1\" class=\"dataframe\">\n",
       "  <thead>\n",
       "    <tr style=\"text-align: right;\">\n",
       "      <th></th>\n",
       "      <th>UserID</th>\n",
       "      <th>ItemID</th>\n",
       "      <th>Interaction</th>\n",
       "    </tr>\n",
       "  </thead>\n",
       "  <tbody>\n",
       "    <tr>\n",
       "      <th>0</th>\n",
       "      <td>0</td>\n",
       "      <td>53</td>\n",
       "      <td>1.0</td>\n",
       "    </tr>\n",
       "    <tr>\n",
       "      <th>1</th>\n",
       "      <td>0</td>\n",
       "      <td>209</td>\n",
       "      <td>1.0</td>\n",
       "    </tr>\n",
       "    <tr>\n",
       "      <th>2</th>\n",
       "      <td>0</td>\n",
       "      <td>223</td>\n",
       "      <td>1.0</td>\n",
       "    </tr>\n",
       "    <tr>\n",
       "      <th>3</th>\n",
       "      <td>0</td>\n",
       "      <td>249</td>\n",
       "      <td>1.0</td>\n",
       "    </tr>\n",
       "    <tr>\n",
       "      <th>4</th>\n",
       "      <td>0</td>\n",
       "      <td>435</td>\n",
       "      <td>1.0</td>\n",
       "    </tr>\n",
       "  </tbody>\n",
       "</table>\n",
       "</div>"
      ],
      "text/plain": [
       "   UserID  ItemID  Interaction\n",
       "0       0      53          1.0\n",
       "1       0     209          1.0\n",
       "2       0     223          1.0\n",
       "3       0     249          1.0\n",
       "4       0     435          1.0"
      ]
     },
     "execution_count": 4,
     "metadata": {},
     "output_type": "execute_result"
    }
   ],
   "source": [
    "URM_all_dataframe.head()"
   ]
  },
  {
   "cell_type": "code",
   "execution_count": 5,
   "id": "16776c38",
   "metadata": {
    "execution": {
     "iopub.execute_input": "2021-12-30T21:30:25.116327Z",
     "iopub.status.busy": "2021-12-30T21:30:25.115634Z",
     "iopub.status.idle": "2021-12-30T21:30:25.227817Z",
     "shell.execute_reply": "2021-12-30T21:30:25.227137Z",
     "shell.execute_reply.started": "2021-12-21T17:28:07.830696Z"
    },
    "papermill": {
     "duration": 0.139116,
     "end_time": "2021-12-30T21:30:25.227981",
     "exception": false,
     "start_time": "2021-12-30T21:30:25.088865",
     "status": "completed"
    },
    "tags": []
   },
   "outputs": [
    {
     "name": "stdout",
     "output_type": "stream",
     "text": [
      "Number of items\t 18059, Number of users\t 13650\n",
      "Max ID items\t 18058, Max Id users\t 13649\n",
      "\n",
      "Average interactions per user 387.23\n",
      "Average interactions per item 292.69\n",
      "\n",
      "Sparsity 97.86 %\n"
     ]
    }
   ],
   "source": [
    "userID_unique = URM_all_dataframe[\"UserID\"].unique()\n",
    "itemID_unique = URM_all_dataframe[\"ItemID\"].unique()\n",
    "\n",
    "n_users = len(userID_unique)\n",
    "n_items = len(itemID_unique)\n",
    "n_interactions = len(URM_all_dataframe)\n",
    "\n",
    "print (\"Number of items\\t {}, Number of users\\t {}\".format(n_items, n_users))\n",
    "print (\"Max ID items\\t {}, Max Id users\\t {}\\n\".format(max(itemID_unique), max(userID_unique)))\n",
    "print (\"Average interactions per user {:.2f}\".format(n_interactions/n_users))\n",
    "print (\"Average interactions per item {:.2f}\\n\".format(n_interactions/n_items))\n",
    "\n",
    "print (\"Sparsity {:.2f} %\".format((1-float(n_interactions)/(n_items*n_users))*100))"
   ]
  },
  {
   "cell_type": "code",
   "execution_count": 6,
   "id": "3ea89c1c",
   "metadata": {
    "execution": {
     "iopub.execute_input": "2021-12-30T21:30:25.283204Z",
     "iopub.status.busy": "2021-12-30T21:30:25.282120Z",
     "iopub.status.idle": "2021-12-30T21:30:25.411735Z",
     "shell.execute_reply": "2021-12-30T21:30:25.412230Z",
     "shell.execute_reply.started": "2021-12-21T17:28:11.20576Z"
    },
    "papermill": {
     "duration": 0.160583,
     "end_time": "2021-12-30T21:30:25.412459",
     "exception": false,
     "start_time": "2021-12-30T21:30:25.251876",
     "status": "completed"
    },
    "tags": []
   },
   "outputs": [
    {
     "data": {
      "text/plain": [
       "<13650x18059 sparse matrix of type '<class 'numpy.float64'>'\n",
       "\twith 5285664 stored elements in Compressed Sparse Row format>"
      ]
     },
     "execution_count": 6,
     "metadata": {},
     "output_type": "execute_result"
    }
   ],
   "source": [
    "URM_all = sps.coo_matrix((URM_all_dataframe[\"Interaction\"].values, \n",
    "                          (URM_all_dataframe[\"UserID\"].values, URM_all_dataframe[\"ItemID\"].values)))\n",
    "URM_all = URM_all.tocsr() # to obtain fast access to rows (users)\n",
    "URM_all"
   ]
  },
  {
   "cell_type": "code",
   "execution_count": 7,
   "id": "f62d2b2b",
   "metadata": {
    "execution": {
     "iopub.execute_input": "2021-12-30T21:30:25.467804Z",
     "iopub.status.busy": "2021-12-30T21:30:25.467048Z",
     "iopub.status.idle": "2021-12-30T21:30:40.291043Z",
     "shell.execute_reply": "2021-12-30T21:30:40.290494Z",
     "shell.execute_reply.started": "2021-12-21T17:28:14.671835Z"
    },
    "papermill": {
     "duration": 14.854008,
     "end_time": "2021-12-30T21:30:40.291186",
     "exception": false,
     "start_time": "2021-12-30T21:30:25.437178",
     "status": "completed"
    },
    "tags": []
   },
   "outputs": [
    {
     "name": "stdout",
     "output_type": "stream",
     "text": [
      "Warning: 5 (0.04 %) of 13650 users have no sampled items\n"
     ]
    }
   ],
   "source": [
    "from Data_manager.split_functions.split_train_validation_random_holdout import split_train_in_two_percentage_global_sample\n",
    "\n",
    "# split data into train and validation data 80/20\n",
    "URM_train, URM_valid = split_train_in_two_percentage_global_sample(URM_all, train_percentage = 0.80)"
   ]
  },
  {
   "cell_type": "code",
   "execution_count": 8,
   "id": "aa933290",
   "metadata": {
    "execution": {
     "iopub.execute_input": "2021-12-30T21:30:40.346183Z",
     "iopub.status.busy": "2021-12-30T21:30:40.345481Z",
     "iopub.status.idle": "2021-12-30T21:30:40.432141Z",
     "shell.execute_reply": "2021-12-30T21:30:40.431409Z",
     "shell.execute_reply.started": "2021-12-21T17:28:32.360433Z"
    },
    "papermill": {
     "duration": 0.116884,
     "end_time": "2021-12-30T21:30:40.432299",
     "exception": false,
     "start_time": "2021-12-30T21:30:40.315415",
     "status": "completed"
    },
    "tags": []
   },
   "outputs": [
    {
     "name": "stdout",
     "output_type": "stream",
     "text": [
      "EvaluatorHoldout: Ignoring 13645 ( 0.0%) Users that have less than 1 test interactions\n"
     ]
    }
   ],
   "source": [
    "from Evaluation.Evaluator import EvaluatorHoldout\n",
    "\n",
    "#create an evaluator object to evaluate validation set\n",
    "#we will use it for hyperparameter tuning\n",
    "evaluator_valid = EvaluatorHoldout(URM_valid, cutoff_list=[10])"
   ]
  },
  {
   "cell_type": "code",
   "execution_count": 9,
   "id": "3f97622a",
   "metadata": {
    "execution": {
     "iopub.execute_input": "2021-12-30T21:30:40.497239Z",
     "iopub.status.busy": "2021-12-30T21:30:40.486543Z",
     "iopub.status.idle": "2021-12-30T21:30:41.675238Z",
     "shell.execute_reply": "2021-12-30T21:30:41.674536Z",
     "shell.execute_reply.started": "2021-12-21T17:28:38.785914Z"
    },
    "papermill": {
     "duration": 1.217343,
     "end_time": "2021-12-30T21:30:41.675391",
     "exception": false,
     "start_time": "2021-12-30T21:30:40.458048",
     "status": "completed"
    },
    "tags": []
   },
   "outputs": [],
   "source": [
    "import numpy as np\n",
    "import scipy.sparse as sps\n",
    "from Recommenders.Recommender_utils import check_matrix\n",
    "from sklearn.linear_model import ElasticNet\n",
    "from Recommenders.BaseSimilarityMatrixRecommender import BaseItemSimilarityMatrixRecommender\n",
    "from Utils.seconds_to_biggest_unit import seconds_to_biggest_unit\n",
    "import time, sys\n",
    "from tqdm import tqdm\n",
    "from sklearn.utils._testing import ignore_warnings\n",
    "from sklearn.exceptions import ConvergenceWarning\n",
    "\n",
    "# os.environ[\"PYTHONWARNINGS\"] = ('ignore::exceptions.ConvergenceWarning:sklearn.linear_model')\n",
    "# os.environ[\"PYTHONWARNINGS\"] = ('ignore:Objective did not converge:ConvergenceWarning:')\n",
    "\n",
    "class SLIMElasticNetRecommender(BaseItemSimilarityMatrixRecommender):\n",
    "    \"\"\"\n",
    "    Train a Sparse Linear Methods (SLIM) item similarity model.\n",
    "    NOTE: ElasticNet solver is parallel, a single intance of SLIM_ElasticNet will\n",
    "          make use of half the cores available\n",
    "    See:\n",
    "        Efficient Top-N Recommendation by Linear Regression,\n",
    "        M. Levy and K. Jack, LSRS workshop at RecSys 2013.\n",
    "        SLIM: Sparse linear methods for top-n recommender systems,\n",
    "        X. Ning and G. Karypis, ICDM 2011.\n",
    "        http://glaros.dtc.umn.edu/gkhome/fetch/papers/SLIM2011icdm.pdf\n",
    "    \"\"\"\n",
    "\n",
    "    RECOMMENDER_NAME = \"SLIMElasticNetRecommender\"\n",
    "\n",
    "    def __init__(self, URM_train, verbose = True):\n",
    "        super(SLIMElasticNetRecommender, self).__init__(URM_train, verbose = verbose)\n",
    "\n",
    "    @ignore_warnings(category=ConvergenceWarning)\n",
    "    def fit(self, l1_ratio=0.1, alpha = 1.0, positive_only=True, topK = 100,**earlystopping_kwargs):\n",
    "\n",
    "        assert l1_ratio>= 0 and l1_ratio<=1, \"{}: l1_ratio must be between 0 and 1, provided value was {}\".format(self.RECOMMENDER_NAME, l1_ratio)\n",
    "\n",
    "        self.l1_ratio = l1_ratio\n",
    "        self.positive_only = positive_only\n",
    "        self.topK = topK\n",
    "\n",
    "\n",
    "        # initialize the ElasticNet model\n",
    "        self.model = ElasticNet(alpha=alpha,\n",
    "                                l1_ratio=self.l1_ratio,\n",
    "                                positive=self.positive_only,\n",
    "                                fit_intercept=False,\n",
    "                                copy_X=False,\n",
    "                                precompute=True,\n",
    "                                selection='random',\n",
    "                                max_iter=100,\n",
    "                                tol=1e-4)\n",
    "\n",
    "        URM_train = check_matrix(self.URM_train, 'csc', dtype=np.float32)\n",
    "\n",
    "        n_items = URM_train.shape[1]\n",
    "\n",
    "        # Use array as it reduces memory requirements compared to lists\n",
    "        dataBlock = 10000000\n",
    "\n",
    "        rows = np.zeros(dataBlock, dtype=np.int32)\n",
    "        cols = np.zeros(dataBlock, dtype=np.int32)\n",
    "        values = np.zeros(dataBlock, dtype=np.float32)\n",
    "\n",
    "        numCells = 0\n",
    "\n",
    "        start_time = time.time()\n",
    "        start_time_printBatch = start_time\n",
    "\n",
    "        # fit each item's factors sequentially (not in parallel)\n",
    "        for currentItem in range(n_items):\n",
    "\n",
    "            # get the target column\n",
    "            y = URM_train[:, currentItem].toarray()\n",
    "\n",
    "            # set the j-th column of X to zero\n",
    "            start_pos = URM_train.indptr[currentItem]\n",
    "            end_pos = URM_train.indptr[currentItem + 1]\n",
    "\n",
    "            current_item_data_backup = URM_train.data[start_pos: end_pos].copy()\n",
    "            URM_train.data[start_pos: end_pos] = 0.0\n",
    "\n",
    "            # fit one ElasticNet model per column\n",
    "            self.model.fit(URM_train, y)\n",
    "\n",
    "            # self.model.coef_ contains the coefficient of the ElasticNet model\n",
    "            # let's keep only the non-zero values\n",
    "\n",
    "            # Select topK values\n",
    "            # Sorting is done in three steps. Faster then plain np.argsort for higher number of items\n",
    "            # - Partition the data to extract the set of relevant items\n",
    "            # - Sort only the relevant items\n",
    "            # - Get the original item index\n",
    "\n",
    "            nonzero_model_coef_index = self.model.sparse_coef_.indices\n",
    "            nonzero_model_coef_value = self.model.sparse_coef_.data\n",
    "\n",
    "            local_topK = min(len(nonzero_model_coef_value)-1, self.topK)\n",
    "\n",
    "            relevant_items_partition = (-nonzero_model_coef_value).argpartition(local_topK)[0:local_topK]\n",
    "            relevant_items_partition_sorting = np.argsort(-nonzero_model_coef_value[relevant_items_partition])\n",
    "            ranking = relevant_items_partition[relevant_items_partition_sorting]\n",
    "\n",
    "            for index in range(len(ranking)):\n",
    "\n",
    "                if numCells == len(rows):\n",
    "                    rows = np.concatenate((rows, np.zeros(dataBlock, dtype=np.int32)))\n",
    "                    cols = np.concatenate((cols, np.zeros(dataBlock, dtype=np.int32)))\n",
    "                    values = np.concatenate((values, np.zeros(dataBlock, dtype=np.float32)))\n",
    "\n",
    "\n",
    "                rows[numCells] = nonzero_model_coef_index[ranking[index]]\n",
    "                cols[numCells] = currentItem\n",
    "                values[numCells] = nonzero_model_coef_value[ranking[index]]\n",
    "\n",
    "                numCells += 1\n",
    "\n",
    "            # finally, replace the original values of the j-th column\n",
    "            URM_train.data[start_pos:end_pos] = current_item_data_backup\n",
    "\n",
    "            elapsed_time = time.time() - start_time\n",
    "            new_time_value, new_time_unit = seconds_to_biggest_unit(elapsed_time)\n",
    "\n",
    "\n",
    "            if time.time() - start_time_printBatch > 300 or currentItem == n_items-1:\n",
    "                self._print(\"Processed {} ({:4.1f}%) in {:.2f} {}. Items per second: {:.2f}\".format(\n",
    "                    currentItem+1,\n",
    "                    100.0* float(currentItem+1)/n_items,\n",
    "                    new_time_value,\n",
    "                    new_time_unit,\n",
    "                    float(currentItem)/elapsed_time))\n",
    "\n",
    "                sys.stdout.flush()\n",
    "                sys.stderr.flush()\n",
    "\n",
    "                start_time_printBatch = time.time()\n",
    "\n",
    "        # generate the sparse weight matrix\n",
    "        self.W_sparse = sps.csr_matrix((values[:numCells], (rows[:numCells], cols[:numCells])),\n",
    "                                       shape=(n_items, n_items), dtype=np.float32)\n",
    "\n",
    "\n"
   ]
  },
  {
   "cell_type": "code",
   "execution_count": 10,
   "id": "a40ed7b1",
   "metadata": {
    "execution": {
     "iopub.execute_input": "2021-12-30T21:30:41.731329Z",
     "iopub.status.busy": "2021-12-30T21:30:41.730630Z",
     "iopub.status.idle": "2021-12-30T22:36:00.157809Z",
     "shell.execute_reply": "2021-12-30T22:36:00.158884Z",
     "shell.execute_reply.started": "2021-12-21T17:35:31.124687Z"
    },
    "papermill": {
     "duration": 3918.459457,
     "end_time": "2021-12-30T22:36:00.159228",
     "exception": false,
     "start_time": "2021-12-30T21:30:41.699771",
     "status": "completed"
    },
    "tags": []
   },
   "outputs": [
    {
     "name": "stdout",
     "output_type": "stream",
     "text": [
      "SLIMElasticNetRecommender: Processed 1410 ( 7.8%) in 5.00 min. Items per second: 4.69\n"
     ]
    },
    {
     "name": "stdout",
     "output_type": "stream",
     "text": [
      "SLIMElasticNetRecommender: Processed 2820 (15.6%) in 10.01 min. Items per second: 4.70\n"
     ]
    },
    {
     "name": "stdout",
     "output_type": "stream",
     "text": [
      "SLIMElasticNetRecommender: Processed 4223 (23.4%) in 15.01 min. Items per second: 4.69\n"
     ]
    },
    {
     "name": "stdout",
     "output_type": "stream",
     "text": [
      "SLIMElasticNetRecommender: Processed 5634 (31.2%) in 20.01 min. Items per second: 4.69\n"
     ]
    },
    {
     "name": "stdout",
     "output_type": "stream",
     "text": [
      "SLIMElasticNetRecommender: Processed 7057 (39.1%) in 25.01 min. Items per second: 4.70\n"
     ]
    },
    {
     "name": "stdout",
     "output_type": "stream",
     "text": [
      "SLIMElasticNetRecommender: Processed 8506 (47.1%) in 30.01 min. Items per second: 4.72\n"
     ]
    },
    {
     "name": "stdout",
     "output_type": "stream",
     "text": [
      "SLIMElasticNetRecommender: Processed 9879 (54.7%) in 35.01 min. Items per second: 4.70\n"
     ]
    },
    {
     "name": "stdout",
     "output_type": "stream",
     "text": [
      "SLIMElasticNetRecommender: Processed 11249 (62.3%) in 40.02 min. Items per second: 4.68\n"
     ]
    },
    {
     "name": "stdout",
     "output_type": "stream",
     "text": [
      "SLIMElasticNetRecommender: Processed 12646 (70.0%) in 45.02 min. Items per second: 4.68\n"
     ]
    },
    {
     "name": "stdout",
     "output_type": "stream",
     "text": [
      "SLIMElasticNetRecommender: Processed 14022 (77.6%) in 50.02 min. Items per second: 4.67\n"
     ]
    },
    {
     "name": "stdout",
     "output_type": "stream",
     "text": [
      "SLIMElasticNetRecommender: Processed 15406 (85.3%) in 55.02 min. Items per second: 4.67\n"
     ]
    },
    {
     "name": "stdout",
     "output_type": "stream",
     "text": [
      "SLIMElasticNetRecommender: Processed 16784 (92.9%) in 1.00 hour. Items per second: 4.66\n"
     ]
    },
    {
     "name": "stdout",
     "output_type": "stream",
     "text": [
      "SLIMElasticNetRecommender: Processed 18059 (100.0%) in 1.08 hour. Items per second: 4.65\n"
     ]
    },
    {
     "name": "stdout",
     "output_type": "stream",
     "text": [
      "BASELINE MODEL:\n"
     ]
    },
    {
     "name": "stdout",
     "output_type": "stream",
     "text": [
      "EvaluatorHoldout: Processed 13645 (100.0%) in 31.37 sec. Users per second: 435\n"
     ]
    },
    {
     "name": "stdout",
     "output_type": "stream",
     "text": [
      "(       PRECISION PRECISION_RECALL_MIN_DEN    RECALL      MAP MAP_MIN_DEN  \\\n",
      "cutoff                                                                     \n",
      "10      0.401766                 0.403598  0.072153  0.24849     0.24939   \n",
      "\n",
      "             MRR      NDCG        F1 HIT_RATE ARHR_ALL_HITS  ...  \\\n",
      "cutoff                                                       ...   \n",
      "10      0.646931  0.415135  0.122335  0.97325      1.245545  ...   \n",
      "\n",
      "       COVERAGE_ITEM_CORRECT COVERAGE_USER COVERAGE_USER_CORRECT  \\\n",
      "cutoff                                                             \n",
      "10                  0.052882      0.999634              0.972894   \n",
      "\n",
      "       DIVERSITY_GINI SHANNON_ENTROPY RATIO_DIVERSITY_HERFINDAHL  \\\n",
      "cutoff                                                             \n",
      "10           0.011148        7.918072                   0.992185   \n",
      "\n",
      "       RATIO_DIVERSITY_GINI RATIO_SHANNON_ENTROPY RATIO_AVERAGE_POPULARITY  \\\n",
      "cutoff                                                                       \n",
      "10                 0.044971               0.63906                 2.657232   \n",
      "\n",
      "       RATIO_NOVELTY  \n",
      "cutoff                \n",
      "10          0.026016  \n",
      "\n",
      "[1 rows x 25 columns], 'CUTOFF: 10 - PRECISION: 0.4017662, PRECISION_RECALL_MIN_DEN: 0.4035981, RECALL: 0.0721525, MAP: 0.2484903, MAP_MIN_DEN: 0.2493903, MRR: 0.6469308, NDCG: 0.4151347, F1: 0.1223351, HIT_RATE: 0.9732503, ARHR_ALL_HITS: 1.2455453, NOVELTY: 0.0055294, AVERAGE_POPULARITY: 0.5346910, DIVERSITY_MEAN_INTER_LIST: 0.9180940, DIVERSITY_HERFINDAHL: 0.9918027, COVERAGE_ITEM: 0.0754748, COVERAGE_ITEM_CORRECT: 0.0528822, COVERAGE_USER: 0.9996337, COVERAGE_USER_CORRECT: 0.9728938, DIVERSITY_GINI: 0.0111478, SHANNON_ENTROPY: 7.9180716, RATIO_DIVERSITY_HERFINDAHL: 0.9921854, RATIO_DIVERSITY_GINI: 0.0449706, RATIO_SHANNON_ENTROPY: 0.6390602, RATIO_AVERAGE_POPULARITY: 2.6572319, RATIO_NOVELTY: 0.0260156, \\n')\n"
     ]
    }
   ],
   "source": [
    "# PREVIOUS BEST MODEL AS BASELINE\n",
    "baseline = SLIMElasticNetRecommender(URM_train)\n",
    "baseline.fit(l1_ratio = 0.001404017101088145, alpha = 0.06305313484275951, positive_only = True, topK = 2594)\n",
    "print(\"BASELINE MODEL:\")\n",
    "print(evaluator_valid.evaluateRecommender(baseline))"
   ]
  },
  {
   "cell_type": "code",
   "execution_count": 11,
   "id": "fb702a89",
   "metadata": {
    "execution": {
     "iopub.execute_input": "2021-12-30T22:36:00.226407Z",
     "iopub.status.busy": "2021-12-30T22:36:00.225411Z",
     "iopub.status.idle": "2021-12-30T22:36:00.235311Z",
     "shell.execute_reply": "2021-12-30T22:36:00.234607Z",
     "shell.execute_reply.started": "2021-12-21T17:28:44.733773Z"
    },
    "papermill": {
     "duration": 0.046225,
     "end_time": "2021-12-30T22:36:00.235559",
     "exception": false,
     "start_time": "2021-12-30T22:36:00.189334",
     "status": "completed"
    },
    "tags": []
   },
   "outputs": [],
   "source": [
    "recommender_class = SLIMElasticNetRecommender"
   ]
  },
  {
   "cell_type": "code",
   "execution_count": 12,
   "id": "fe5758d9",
   "metadata": {
    "execution": {
     "iopub.execute_input": "2021-12-30T22:36:00.300059Z",
     "iopub.status.busy": "2021-12-30T22:36:00.299247Z",
     "iopub.status.idle": "2021-12-30T22:36:00.305606Z",
     "shell.execute_reply": "2021-12-30T22:36:00.306179Z",
     "shell.execute_reply.started": "2021-12-21T17:29:20.183497Z"
    },
    "papermill": {
     "duration": 0.040529,
     "end_time": "2021-12-30T22:36:00.306391",
     "exception": false,
     "start_time": "2021-12-30T22:36:00.265862",
     "status": "completed"
    },
    "tags": []
   },
   "outputs": [],
   "source": [
    "import os\n",
    "\n",
    "output_folder_path = \"result_experiments/\"\n",
    "\n",
    "# If directory does not exist, create\n",
    "if not os.path.exists(output_folder_path):\n",
    "    os.makedirs(output_folder_path)\n",
    "    \n",
    "n_cases = 50\n",
    "n_random_starts = int(n_cases*0.3)\n",
    "metric_to_optimize = \"MAP\"   \n",
    "cutoff_to_optimize = 10"
   ]
  },
  {
   "cell_type": "code",
   "execution_count": 13,
   "id": "f1bc2ca0",
   "metadata": {
    "execution": {
     "iopub.execute_input": "2021-12-30T22:36:00.374078Z",
     "iopub.status.busy": "2021-12-30T22:36:00.373267Z",
     "iopub.status.idle": "2021-12-30T22:36:00.652056Z",
     "shell.execute_reply": "2021-12-30T22:36:00.651258Z",
     "shell.execute_reply.started": "2021-12-21T17:29:22.465754Z"
    },
    "papermill": {
     "duration": 0.31601,
     "end_time": "2021-12-30T22:36:00.652221",
     "exception": false,
     "start_time": "2021-12-30T22:36:00.336211",
     "status": "completed"
    },
    "tags": []
   },
   "outputs": [],
   "source": [
    "from skopt.space import Real, Integer, Categorical\n",
    "\n",
    "#param = l1_ratio=0.1, alpha = 1.0, positive_only=True, topK = 100\n",
    "\n",
    "hyperparameters_range_dictionary = {\n",
    "    \"l1_ratio\": Real(low = 0.0005, high = 0.05, prior = 'log-uniform'),\n",
    "    \"alpha\": Real(low = 0.01, high = 0.1, prior = 'log-uniform'),\n",
    "    \"topK\": Integer(300,4000)\n",
    "}"
   ]
  },
  {
   "cell_type": "code",
   "execution_count": 14,
   "id": "b95375a0",
   "metadata": {
    "execution": {
     "iopub.execute_input": "2021-12-30T22:36:00.716966Z",
     "iopub.status.busy": "2021-12-30T22:36:00.716148Z",
     "iopub.status.idle": "2021-12-30T22:36:00.720627Z",
     "shell.execute_reply": "2021-12-30T22:36:00.721151Z",
     "shell.execute_reply.started": "2021-12-21T17:29:25.651724Z"
    },
    "papermill": {
     "duration": 0.039037,
     "end_time": "2021-12-30T22:36:00.721355",
     "exception": false,
     "start_time": "2021-12-30T22:36:00.682318",
     "status": "completed"
    },
    "tags": []
   },
   "outputs": [],
   "source": [
    "#We also setup the early stopping \n",
    "earlystopping_keywargs = {\"validation_every_n\": 5,\n",
    "                          \"stop_on_validation\": True,\n",
    "                          \"evaluator_object\": evaluator_valid,\n",
    "                          \"lower_validations_allowed\": 5,\n",
    "                          \"validation_metric\": metric_to_optimize,\n",
    "                          }"
   ]
  },
  {
   "cell_type": "code",
   "execution_count": 15,
   "id": "4e39bac3",
   "metadata": {
    "execution": {
     "iopub.execute_input": "2021-12-30T22:36:00.788966Z",
     "iopub.status.busy": "2021-12-30T22:36:00.788089Z",
     "iopub.status.idle": "2021-12-30T22:36:00.806069Z",
     "shell.execute_reply": "2021-12-30T22:36:00.805475Z",
     "shell.execute_reply.started": "2021-12-21T17:29:28.657324Z"
    },
    "papermill": {
     "duration": 0.05147,
     "end_time": "2021-12-30T22:36:00.806243",
     "exception": false,
     "start_time": "2021-12-30T22:36:00.754773",
     "status": "completed"
    },
    "tags": []
   },
   "outputs": [],
   "source": [
    "from HyperparameterTuning.SearchBayesianSkopt import SearchBayesianSkopt\n",
    "\n",
    "#create a bayesian optimizer object, we pass the recommender and the evaluator\n",
    "hyperparameterSearch = SearchBayesianSkopt(recommender_class,\n",
    "                                         evaluator_validation=evaluator_valid)"
   ]
  },
  {
   "cell_type": "code",
   "execution_count": 16,
   "id": "62bf2c01",
   "metadata": {
    "execution": {
     "iopub.execute_input": "2021-12-30T22:36:00.870050Z",
     "iopub.status.busy": "2021-12-30T22:36:00.869298Z",
     "iopub.status.idle": "2021-12-30T22:36:00.873576Z",
     "shell.execute_reply": "2021-12-30T22:36:00.874069Z",
     "shell.execute_reply.started": "2021-12-21T17:29:33.421961Z"
    },
    "papermill": {
     "duration": 0.038183,
     "end_time": "2021-12-30T22:36:00.874260",
     "exception": false,
     "start_time": "2021-12-30T22:36:00.836077",
     "status": "completed"
    },
    "tags": []
   },
   "outputs": [],
   "source": [
    "from HyperparameterTuning.SearchAbstractClass import SearchInputRecommenderArgs\n",
    "  \n",
    "#provide data needed to create instance of model (one on URM_train, the other on URM_all)\n",
    "recommender_input_args = SearchInputRecommenderArgs(\n",
    "    CONSTRUCTOR_POSITIONAL_ARGS = [URM_train],     # For a CBF model simply put [URM_train, ICM_train]\n",
    "    CONSTRUCTOR_KEYWORD_ARGS = {},\n",
    "    FIT_POSITIONAL_ARGS = [],\n",
    "    FIT_KEYWORD_ARGS = earlystopping_keywargs\n",
    ")"
   ]
  },
  {
   "cell_type": "code",
   "execution_count": 17,
   "id": "59114e31",
   "metadata": {
    "execution": {
     "iopub.execute_input": "2021-12-30T22:36:00.940815Z",
     "iopub.status.busy": "2021-12-30T22:36:00.940070Z",
     "iopub.status.idle": "2021-12-30T22:36:00.941478Z",
     "shell.execute_reply": "2021-12-30T22:36:00.942111Z",
     "shell.execute_reply.started": "2021-12-21T17:29:36.025849Z"
    },
    "papermill": {
     "duration": 0.037455,
     "end_time": "2021-12-30T22:36:00.942329",
     "exception": false,
     "start_time": "2021-12-30T22:36:00.904874",
     "status": "completed"
    },
    "tags": []
   },
   "outputs": [],
   "source": [
    "recommender_input_args_last_test = SearchInputRecommenderArgs(\n",
    "    CONSTRUCTOR_POSITIONAL_ARGS = [URM_all],\n",
    "    CONSTRUCTOR_KEYWORD_ARGS = {},\n",
    "    FIT_POSITIONAL_ARGS = [],\n",
    "    FIT_KEYWORD_ARGS = earlystopping_keywargs\n",
    ")"
   ]
  },
  {
   "cell_type": "code",
   "execution_count": 18,
   "id": "98239a3b",
   "metadata": {
    "execution": {
     "iopub.execute_input": "2021-12-30T22:36:01.007167Z",
     "iopub.status.busy": "2021-12-30T22:36:01.006207Z",
     "iopub.status.idle": "2021-11-28T15:59:03.934189Z",
     "shell.execute_reply": "2021-11-28T15:59:03.93264Z",
     "shell.execute_reply.started": "2021-11-28T15:44:04.090283Z"
    },
    "papermill": {
     "duration": null,
     "end_time": null,
     "exception": false,
     "start_time": "2021-12-30T22:36:00.973192",
     "status": "running"
    },
    "tags": []
   },
   "outputs": [
    {
     "name": "stdout",
     "output_type": "stream",
     "text": [
      "Iteration No: 1 started. Evaluating function at random point.\n",
      "SearchBayesianSkopt: Testing config: {'l1_ratio': 0.0018286262247658193, 'alpha': 0.07688997944095932, 'topK': 1035}\n"
     ]
    },
    {
     "name": "stdout",
     "output_type": "stream",
     "text": [
      "SLIMElasticNetRecommender: Processed 1327 ( 7.3%) in 5.00 min. Items per second: 4.42\n"
     ]
    },
    {
     "name": "stdout",
     "output_type": "stream",
     "text": [
      "SLIMElasticNetRecommender: Processed 2773 (15.4%) in 10.00 min. Items per second: 4.62\n"
     ]
    },
    {
     "name": "stdout",
     "output_type": "stream",
     "text": [
      "SLIMElasticNetRecommender: Processed 4258 (23.6%) in 15.00 min. Items per second: 4.73\n"
     ]
    },
    {
     "name": "stdout",
     "output_type": "stream",
     "text": [
      "SLIMElasticNetRecommender: Processed 5727 (31.7%) in 20.01 min. Items per second: 4.77\n"
     ]
    },
    {
     "name": "stdout",
     "output_type": "stream",
     "text": [
      "SLIMElasticNetRecommender: Processed 7217 (40.0%) in 25.01 min. Items per second: 4.81\n"
     ]
    },
    {
     "name": "stdout",
     "output_type": "stream",
     "text": [
      "SLIMElasticNetRecommender: Processed 8681 (48.1%) in 30.01 min. Items per second: 4.82\n"
     ]
    },
    {
     "name": "stdout",
     "output_type": "stream",
     "text": [
      "SLIMElasticNetRecommender: Processed 10165 (56.3%) in 35.01 min. Items per second: 4.84\n"
     ]
    },
    {
     "name": "stdout",
     "output_type": "stream",
     "text": [
      "SLIMElasticNetRecommender: Processed 11663 (64.6%) in 40.01 min. Items per second: 4.86\n"
     ]
    },
    {
     "name": "stdout",
     "output_type": "stream",
     "text": [
      "SLIMElasticNetRecommender: Processed 13208 (73.1%) in 45.01 min. Items per second: 4.89\n"
     ]
    },
    {
     "name": "stdout",
     "output_type": "stream",
     "text": [
      "SLIMElasticNetRecommender: Processed 14733 (81.6%) in 50.02 min. Items per second: 4.91\n"
     ]
    },
    {
     "name": "stdout",
     "output_type": "stream",
     "text": [
      "SLIMElasticNetRecommender: Processed 16261 (90.0%) in 55.02 min. Items per second: 4.93\n"
     ]
    },
    {
     "name": "stdout",
     "output_type": "stream",
     "text": [
      "SLIMElasticNetRecommender: Processed 17758 (98.3%) in 1.00 hour. Items per second: 4.93\n"
     ]
    },
    {
     "name": "stdout",
     "output_type": "stream",
     "text": [
      "SLIMElasticNetRecommender: Processed 18059 (100.0%) in 1.02 hour. Items per second: 4.93\n"
     ]
    },
    {
     "name": "stdout",
     "output_type": "stream",
     "text": [
      "EvaluatorHoldout: Processed 13645 (100.0%) in 29.56 sec. Users per second: 462\n"
     ]
    },
    {
     "name": "stdout",
     "output_type": "stream",
     "text": [
      "SearchBayesianSkopt: New best config found. Config 0: {'l1_ratio': 0.0018286262247658193, 'alpha': 0.07688997944095932, 'topK': 1035} - results: PRECISION: 0.4018395, PRECISION_RECALL_MIN_DEN: 0.4035943, RECALL: 0.0719630, MAP: 0.2487156, MAP_MIN_DEN: 0.2496051, MRR: 0.6473326, NDCG: 0.4152518, F1: 0.1220659, HIT_RATE: 0.9731770, ARHR_ALL_HITS: 1.2462145, NOVELTY: 0.0055228, AVERAGE_POPULARITY: 0.5376364, DIVERSITY_MEAN_INTER_LIST: 0.9161156, DIVERSITY_HERFINDAHL: 0.9916048, COVERAGE_ITEM: 0.0730384, COVERAGE_ITEM_CORRECT: 0.0515532, COVERAGE_USER: 0.9996337, COVERAGE_USER_CORRECT: 0.9728205, DIVERSITY_GINI: 0.0108059, SHANNON_ENTROPY: 7.8768686, RATIO_DIVERSITY_HERFINDAHL: 0.9919875, RATIO_DIVERSITY_GINI: 0.0435916, RATIO_SHANNON_ENTROPY: 0.6357347, RATIO_AVERAGE_POPULARITY: 2.6718696, RATIO_NOVELTY: 0.0259847, \n",
      "\n"
     ]
    },
    {
     "name": "stdout",
     "output_type": "stream",
     "text": [
      "Iteration No: 1 ended. Evaluation done at random point.\n",
      "Time taken: 3692.6566\n",
      "Function value obtained: -0.2487\n",
      "Current minimum: -0.2487\n",
      "Iteration No: 2 started. Evaluating function at random point.\n",
      "SearchBayesianSkopt: Testing config: {'l1_ratio': 0.005055410319074547, 'alpha': 0.06345806360287587, 'topK': 529}\n"
     ]
    },
    {
     "name": "stdout",
     "output_type": "stream",
     "text": [
      "SLIMElasticNetRecommender: Processed 1483 ( 8.2%) in 5.00 min. Items per second: 4.94\n"
     ]
    },
    {
     "name": "stdout",
     "output_type": "stream",
     "text": [
      "SLIMElasticNetRecommender: Processed 2945 (16.3%) in 10.00 min. Items per second: 4.91\n"
     ]
    },
    {
     "name": "stdout",
     "output_type": "stream",
     "text": [
      "SLIMElasticNetRecommender: Processed 4469 (24.7%) in 15.01 min. Items per second: 4.96\n"
     ]
    },
    {
     "name": "stdout",
     "output_type": "stream",
     "text": [
      "SLIMElasticNetRecommender: Processed 5943 (32.9%) in 20.01 min. Items per second: 4.95\n"
     ]
    },
    {
     "name": "stdout",
     "output_type": "stream",
     "text": [
      "SLIMElasticNetRecommender: Processed 7362 (40.8%) in 25.01 min. Items per second: 4.91\n"
     ]
    },
    {
     "name": "stdout",
     "output_type": "stream",
     "text": [
      "SLIMElasticNetRecommender: Processed 8844 (49.0%) in 30.01 min. Items per second: 4.91\n"
     ]
    },
    {
     "name": "stdout",
     "output_type": "stream",
     "text": [
      "SLIMElasticNetRecommender: Processed 10331 (57.2%) in 35.02 min. Items per second: 4.92\n"
     ]
    },
    {
     "name": "stdout",
     "output_type": "stream",
     "text": [
      "SLIMElasticNetRecommender: Processed 11813 (65.4%) in 40.02 min. Items per second: 4.92\n"
     ]
    },
    {
     "name": "stdout",
     "output_type": "stream",
     "text": [
      "SLIMElasticNetRecommender: Processed 13295 (73.6%) in 45.02 min. Items per second: 4.92\n"
     ]
    },
    {
     "name": "stdout",
     "output_type": "stream",
     "text": [
      "SLIMElasticNetRecommender: Processed 14762 (81.7%) in 50.02 min. Items per second: 4.92\n"
     ]
    },
    {
     "name": "stdout",
     "output_type": "stream",
     "text": [
      "SLIMElasticNetRecommender: Processed 16252 (90.0%) in 55.02 min. Items per second: 4.92\n"
     ]
    },
    {
     "name": "stdout",
     "output_type": "stream",
     "text": [
      "SLIMElasticNetRecommender: Processed 17726 (98.2%) in 1.00 hour. Items per second: 4.92\n"
     ]
    },
    {
     "name": "stdout",
     "output_type": "stream",
     "text": [
      "SLIMElasticNetRecommender: Processed 18059 (100.0%) in 1.02 hour. Items per second: 4.92\n"
     ]
    },
    {
     "name": "stdout",
     "output_type": "stream",
     "text": [
      "EvaluatorHoldout: Processed 13645 (100.0%) in 27.15 sec. Users per second: 503\n"
     ]
    },
    {
     "name": "stdout",
     "output_type": "stream",
     "text": [
      "SearchBayesianSkopt: Config 1 is suboptimal. Config: {'l1_ratio': 0.005055410319074547, 'alpha': 0.06345806360287587, 'topK': 529} - results: PRECISION: 0.4017442, PRECISION_RECALL_MIN_DEN: 0.4035235, RECALL: 0.0720203, MAP: 0.2484900, MAP_MIN_DEN: 0.2493837, MRR: 0.6466629, NDCG: 0.4150367, F1: 0.1221439, HIT_RATE: 0.9732503, ARHR_ALL_HITS: 1.2451266, NOVELTY: 0.0055355, AVERAGE_POPULARITY: 0.5317481, DIVERSITY_MEAN_INTER_LIST: 0.9189548, DIVERSITY_HERFINDAHL: 0.9918887, COVERAGE_ITEM: 0.0751980, COVERAGE_ITEM_CORRECT: 0.0526053, COVERAGE_USER: 0.9996337, COVERAGE_USER_CORRECT: 0.9728938, DIVERSITY_GINI: 0.0112719, SHANNON_ENTROPY: 7.9365093, RATIO_DIVERSITY_HERFINDAHL: 0.9922715, RATIO_DIVERSITY_GINI: 0.0454712, RATIO_SHANNON_ENTROPY: 0.6405483, RATIO_AVERAGE_POPULARITY: 2.6426063, RATIO_NOVELTY: 0.0260446, \n",
      "\n",
      "Iteration No: 2 ended. Evaluation done at random point.\n",
      "Time taken: 3694.5560\n",
      "Function value obtained: -0.2485\n",
      "Current minimum: -0.2487\n",
      "Iteration No: 3 started. Evaluating function at random point.\n",
      "SearchBayesianSkopt: Testing config: {'l1_ratio': 0.0049866640673402515, 'alpha': 0.04475399260515166, 'topK': 3684}\n"
     ]
    },
    {
     "name": "stdout",
     "output_type": "stream",
     "text": [
      "SLIMElasticNetRecommender: Processed 1471 ( 8.1%) in 5.00 min. Items per second: 4.90\n"
     ]
    },
    {
     "name": "stdout",
     "output_type": "stream",
     "text": [
      "SLIMElasticNetRecommender: Processed 2906 (16.1%) in 10.00 min. Items per second: 4.84\n"
     ]
    },
    {
     "name": "stdout",
     "output_type": "stream",
     "text": [
      "SLIMElasticNetRecommender: Processed 4389 (24.3%) in 15.00 min. Items per second: 4.88\n"
     ]
    },
    {
     "name": "stdout",
     "output_type": "stream",
     "text": [
      "SLIMElasticNetRecommender: Processed 5866 (32.5%) in 20.00 min. Items per second: 4.89\n"
     ]
    },
    {
     "name": "stdout",
     "output_type": "stream",
     "text": [
      "SLIMElasticNetRecommender: Processed 7342 (40.7%) in 25.01 min. Items per second: 4.89\n"
     ]
    },
    {
     "name": "stdout",
     "output_type": "stream",
     "text": [
      "SLIMElasticNetRecommender: Processed 8814 (48.8%) in 30.01 min. Items per second: 4.89\n"
     ]
    },
    {
     "name": "stdout",
     "output_type": "stream",
     "text": [
      "SLIMElasticNetRecommender: Processed 10282 (56.9%) in 35.01 min. Items per second: 4.89\n"
     ]
    },
    {
     "name": "stdout",
     "output_type": "stream",
     "text": [
      "SLIMElasticNetRecommender: Processed 11755 (65.1%) in 40.01 min. Items per second: 4.90\n"
     ]
    },
    {
     "name": "stdout",
     "output_type": "stream",
     "text": [
      "SLIMElasticNetRecommender: Processed 13244 (73.3%) in 45.02 min. Items per second: 4.90\n"
     ]
    },
    {
     "name": "stdout",
     "output_type": "stream",
     "text": [
      "SLIMElasticNetRecommender: Processed 14716 (81.5%) in 50.02 min. Items per second: 4.90\n"
     ]
    },
    {
     "name": "stdout",
     "output_type": "stream",
     "text": [
      "SLIMElasticNetRecommender: Processed 16208 (89.8%) in 55.02 min. Items per second: 4.91\n"
     ]
    },
    {
     "name": "stdout",
     "output_type": "stream",
     "text": [
      "SLIMElasticNetRecommender: Processed 17680 (97.9%) in 1.00 hour. Items per second: 4.91\n"
     ]
    },
    {
     "name": "stdout",
     "output_type": "stream",
     "text": [
      "SLIMElasticNetRecommender: Processed 18059 (100.0%) in 1.02 hour. Items per second: 4.91\n"
     ]
    },
    {
     "name": "stdout",
     "output_type": "stream",
     "text": [
      "EvaluatorHoldout: Processed 13645 (100.0%) in 27.27 sec. Users per second: 500\n"
     ]
    },
    {
     "name": "stdout",
     "output_type": "stream",
     "text": [
      "SearchBayesianSkopt: New best config found. Config 2: {'l1_ratio': 0.0049866640673402515, 'alpha': 0.04475399260515166, 'topK': 3684} - results: PRECISION: 0.4024844, PRECISION_RECALL_MIN_DEN: 0.4042664, RECALL: 0.0722745, MAP: 0.2488642, MAP_MIN_DEN: 0.2497442, MRR: 0.6476402, NDCG: 0.4156007, F1: 0.1225437, HIT_RATE: 0.9735434, ARHR_ALL_HITS: 1.2465086, NOVELTY: 0.0055529, AVERAGE_POPULARITY: 0.5246456, DIVERSITY_MEAN_INTER_LIST: 0.9229147, DIVERSITY_HERFINDAHL: 0.9922847, COVERAGE_ITEM: 0.0805692, COVERAGE_ITEM_CORRECT: 0.0567030, COVERAGE_USER: 0.9996337, COVERAGE_USER_CORRECT: 0.9731868, DIVERSITY_GINI: 0.0121007, SHANNON_ENTROPY: 8.0292240, RATIO_DIVERSITY_HERFINDAHL: 0.9926676, RATIO_DIVERSITY_GINI: 0.0488147, RATIO_SHANNON_ENTROPY: 0.6480312, RATIO_AVERAGE_POPULARITY: 2.6073097, RATIO_NOVELTY: 0.0261262, \n",
      "\n",
      "Iteration No: 3 ended. Evaluation done at random point.\n",
      "Time taken: 3704.9731\n",
      "Function value obtained: -0.2489\n",
      "Current minimum: -0.2489\n",
      "Iteration No: 4 started. Evaluating function at random point.\n",
      "SearchBayesianSkopt: Testing config: {'l1_ratio': 0.024363665684312186, 'alpha': 0.06671142435628305, 'topK': 3273}\n"
     ]
    },
    {
     "name": "stdout",
     "output_type": "stream",
     "text": [
      "SLIMElasticNetRecommender: Processed 2090 (11.6%) in 5.00 min. Items per second: 6.96\n"
     ]
    },
    {
     "name": "stdout",
     "output_type": "stream",
     "text": [
      "SLIMElasticNetRecommender: Processed 4269 (23.6%) in 10.01 min. Items per second: 7.11\n"
     ]
    },
    {
     "name": "stdout",
     "output_type": "stream",
     "text": [
      "SLIMElasticNetRecommender: Processed 6425 (35.6%) in 15.01 min. Items per second: 7.13\n"
     ]
    },
    {
     "name": "stdout",
     "output_type": "stream",
     "text": [
      "SLIMElasticNetRecommender: Processed 8580 (47.5%) in 20.01 min. Items per second: 7.15\n"
     ]
    },
    {
     "name": "stdout",
     "output_type": "stream",
     "text": [
      "SLIMElasticNetRecommender: Processed 10723 (59.4%) in 25.01 min. Items per second: 7.15\n"
     ]
    },
    {
     "name": "stdout",
     "output_type": "stream",
     "text": [
      "SLIMElasticNetRecommender: Processed 12891 (71.4%) in 30.01 min. Items per second: 7.16\n"
     ]
    },
    {
     "name": "stdout",
     "output_type": "stream",
     "text": [
      "SLIMElasticNetRecommender: Processed 15015 (83.1%) in 35.01 min. Items per second: 7.15\n"
     ]
    },
    {
     "name": "stdout",
     "output_type": "stream",
     "text": [
      "SLIMElasticNetRecommender: Processed 17139 (94.9%) in 40.01 min. Items per second: 7.14\n"
     ]
    },
    {
     "name": "stdout",
     "output_type": "stream",
     "text": [
      "SLIMElasticNetRecommender: Processed 18059 (100.0%) in 42.28 min. Items per second: 7.12\n"
     ]
    },
    {
     "name": "stdout",
     "output_type": "stream",
     "text": [
      "EvaluatorHoldout: Processed 13645 (100.0%) in 21.92 sec. Users per second: 623\n"
     ]
    },
    {
     "name": "stdout",
     "output_type": "stream",
     "text": [
      "SearchBayesianSkopt: Config 3 is suboptimal. Config: {'l1_ratio': 0.024363665684312186, 'alpha': 0.06671142435628305, 'topK': 3273} - results: PRECISION: 0.3978674, PRECISION_RECALL_MIN_DEN: 0.3996578, RECALL: 0.0713069, MAP: 0.2456713, MAP_MIN_DEN: 0.2465617, MRR: 0.6424317, NDCG: 0.4114396, F1: 0.1209388, HIT_RATE: 0.9725907, ARHR_ALL_HITS: 1.2349444, NOVELTY: 0.0054908, AVERAGE_POPULARITY: 0.5490802, DIVERSITY_MEAN_INTER_LIST: 0.9119100, DIVERSITY_HERFINDAHL: 0.9911843, COVERAGE_ITEM: 0.0651753, COVERAGE_ITEM_CORRECT: 0.0454067, COVERAGE_USER: 0.9996337, COVERAGE_USER_CORRECT: 0.9722344, DIVERSITY_GINI: 0.0096946, SHANNON_ENTROPY: 7.7475198, RATIO_DIVERSITY_HERFINDAHL: 0.9915668, RATIO_DIVERSITY_GINI: 0.0391084, RATIO_SHANNON_ENTROPY: 0.6252951, RATIO_AVERAGE_POPULARITY: 2.7287414, RATIO_NOVELTY: 0.0258343, \n",
      "\n",
      "Iteration No: 4 ended. Evaluation done at random point.\n",
      "Time taken: 2558.9192\n",
      "Function value obtained: -0.2457\n",
      "Current minimum: -0.2489\n",
      "Iteration No: 5 started. Evaluating function at random point.\n",
      "SearchBayesianSkopt: Testing config: {'l1_ratio': 0.025623604824795594, 'alpha': 0.010661136969244919, 'topK': 1159}\n"
     ]
    },
    {
     "name": "stdout",
     "output_type": "stream",
     "text": [
      "SLIMElasticNetRecommender: Processed 1428 ( 7.9%) in 5.00 min. Items per second: 4.75\n"
     ]
    },
    {
     "name": "stdout",
     "output_type": "stream",
     "text": [
      "SLIMElasticNetRecommender: Processed 2801 (15.5%) in 10.01 min. Items per second: 4.66\n"
     ]
    },
    {
     "name": "stdout",
     "output_type": "stream",
     "text": [
      "SLIMElasticNetRecommender: Processed 4216 (23.3%) in 15.01 min. Items per second: 4.68\n"
     ]
    },
    {
     "name": "stdout",
     "output_type": "stream",
     "text": [
      "SLIMElasticNetRecommender: Processed 5657 (31.3%) in 20.01 min. Items per second: 4.71\n"
     ]
    },
    {
     "name": "stdout",
     "output_type": "stream",
     "text": [
      "SLIMElasticNetRecommender: Processed 7087 (39.2%) in 25.01 min. Items per second: 4.72\n"
     ]
    },
    {
     "name": "stdout",
     "output_type": "stream",
     "text": [
      "SLIMElasticNetRecommender: Processed 8542 (47.3%) in 30.01 min. Items per second: 4.74\n"
     ]
    },
    {
     "name": "stdout",
     "output_type": "stream",
     "text": [
      "SLIMElasticNetRecommender: Processed 9972 (55.2%) in 35.01 min. Items per second: 4.75\n"
     ]
    },
    {
     "name": "stdout",
     "output_type": "stream",
     "text": [
      "SLIMElasticNetRecommender: Processed 11417 (63.2%) in 40.02 min. Items per second: 4.75\n"
     ]
    },
    {
     "name": "stdout",
     "output_type": "stream",
     "text": [
      "SLIMElasticNetRecommender: Processed 12839 (71.1%) in 45.02 min. Items per second: 4.75\n"
     ]
    },
    {
     "name": "stdout",
     "output_type": "stream",
     "text": [
      "SLIMElasticNetRecommender: Processed 14259 (79.0%) in 50.02 min. Items per second: 4.75\n"
     ]
    },
    {
     "name": "stdout",
     "output_type": "stream",
     "text": [
      "SLIMElasticNetRecommender: Processed 15685 (86.9%) in 55.02 min. Items per second: 4.75\n"
     ]
    },
    {
     "name": "stdout",
     "output_type": "stream",
     "text": [
      "SLIMElasticNetRecommender: Processed 17117 (94.8%) in 1.00 hour. Items per second: 4.75\n"
     ]
    },
    {
     "name": "stdout",
     "output_type": "stream",
     "text": [
      "SLIMElasticNetRecommender: Processed 18059 (100.0%) in 1.06 hour. Items per second: 4.75\n"
     ]
    },
    {
     "name": "stdout",
     "output_type": "stream",
     "text": [
      "EvaluatorHoldout: Processed 13645 (100.0%) in 24.46 sec. Users per second: 558\n"
     ]
    },
    {
     "name": "stdout",
     "output_type": "stream",
     "text": [
      "SearchBayesianSkopt: Config 4 is suboptimal. Config: {'l1_ratio': 0.025623604824795594, 'alpha': 0.010661136969244919, 'topK': 1159} - results: PRECISION: 0.4006156, PRECISION_RECALL_MIN_DEN: 0.4024376, RECALL: 0.0722095, MAP: 0.2469192, MAP_MIN_DEN: 0.2477533, MRR: 0.6465616, NDCG: 0.4136849, F1: 0.1223634, HIT_RATE: 0.9737633, ARHR_ALL_HITS: 1.2408459, NOVELTY: 0.0056349, AVERAGE_POPULARITY: 0.4928863, DIVERSITY_MEAN_INTER_LIST: 0.9363709, DIVERSITY_HERFINDAHL: 0.9936302, COVERAGE_ITEM: 0.1079240, COVERAGE_ITEM_CORRECT: 0.0727615, COVERAGE_USER: 0.9996337, COVERAGE_USER_CORRECT: 0.9734066, DIVERSITY_GINI: 0.0160323, SHANNON_ENTROPY: 8.3942267, RATIO_DIVERSITY_HERFINDAHL: 0.9940136, RATIO_DIVERSITY_GINI: 0.0646749, RATIO_SHANNON_ENTROPY: 0.6774902, RATIO_AVERAGE_POPULARITY: 2.4494767, RATIO_NOVELTY: 0.0265121, \n",
      "\n",
      "Iteration No: 5 ended. Evaluation done at random point.\n",
      "Time taken: 3823.0205\n",
      "Function value obtained: -0.2469\n",
      "Current minimum: -0.2489\n",
      "Iteration No: 6 started. Evaluating function at random point.\n",
      "SearchBayesianSkopt: Testing config: {'l1_ratio': 0.01876171376936078, 'alpha': 0.013115994949370395, 'topK': 622}\n"
     ]
    },
    {
     "name": "stdout",
     "output_type": "stream",
     "text": [
      "SLIMElasticNetRecommender: Processed 1393 ( 7.7%) in 5.00 min. Items per second: 4.64\n"
     ]
    },
    {
     "name": "stdout",
     "output_type": "stream",
     "text": [
      "SLIMElasticNetRecommender: Processed 2815 (15.6%) in 10.00 min. Items per second: 4.69\n"
     ]
    },
    {
     "name": "stdout",
     "output_type": "stream",
     "text": [
      "SLIMElasticNetRecommender: Processed 4265 (23.6%) in 15.00 min. Items per second: 4.74\n"
     ]
    },
    {
     "name": "stdout",
     "output_type": "stream",
     "text": [
      "SLIMElasticNetRecommender: Processed 5723 (31.7%) in 20.00 min. Items per second: 4.77\n"
     ]
    },
    {
     "name": "stdout",
     "output_type": "stream",
     "text": [
      "SLIMElasticNetRecommender: Processed 7165 (39.7%) in 25.01 min. Items per second: 4.77\n"
     ]
    },
    {
     "name": "stdout",
     "output_type": "stream",
     "text": [
      "SLIMElasticNetRecommender: Processed 8647 (47.9%) in 30.01 min. Items per second: 4.80\n"
     ]
    },
    {
     "name": "stdout",
     "output_type": "stream",
     "text": [
      "SLIMElasticNetRecommender: Processed 10097 (55.9%) in 35.01 min. Items per second: 4.81\n"
     ]
    },
    {
     "name": "stdout",
     "output_type": "stream",
     "text": [
      "SLIMElasticNetRecommender: Processed 11555 (64.0%) in 40.01 min. Items per second: 4.81\n"
     ]
    },
    {
     "name": "stdout",
     "output_type": "stream",
     "text": [
      "SLIMElasticNetRecommender: Processed 12989 (71.9%) in 45.02 min. Items per second: 4.81\n"
     ]
    },
    {
     "name": "stdout",
     "output_type": "stream",
     "text": [
      "SLIMElasticNetRecommender: Processed 14438 (79.9%) in 50.02 min. Items per second: 4.81\n"
     ]
    },
    {
     "name": "stdout",
     "output_type": "stream",
     "text": [
      "SLIMElasticNetRecommender: Processed 15890 (88.0%) in 55.02 min. Items per second: 4.81\n"
     ]
    },
    {
     "name": "stdout",
     "output_type": "stream",
     "text": [
      "SLIMElasticNetRecommender: Processed 17345 (96.0%) in 1.00 hour. Items per second: 4.82\n"
     ]
    },
    {
     "name": "stdout",
     "output_type": "stream",
     "text": [
      "SLIMElasticNetRecommender: Processed 18059 (100.0%) in 1.04 hour. Items per second: 4.82\n"
     ]
    },
    {
     "name": "stdout",
     "output_type": "stream",
     "text": [
      "EvaluatorHoldout: Processed 13645 (100.0%) in 25.13 sec. Users per second: 543\n"
     ]
    },
    {
     "name": "stdout",
     "output_type": "stream",
     "text": [
      "SearchBayesianSkopt: Config 5 is suboptimal. Config: {'l1_ratio': 0.01876171376936078, 'alpha': 0.013115994949370395, 'topK': 622} - results: PRECISION: 0.4009747, PRECISION_RECALL_MIN_DEN: 0.4027994, RECALL: 0.0722770, MAP: 0.2471848, MAP_MIN_DEN: 0.2480198, MRR: 0.6466655, NDCG: 0.4140114, F1: 0.1224771, HIT_RATE: 0.9735434, ARHR_ALL_HITS: 1.2417749, NOVELTY: 0.0056331, AVERAGE_POPULARITY: 0.4925622, DIVERSITY_MEAN_INTER_LIST: 0.9365235, DIVERSITY_HERFINDAHL: 0.9936455, COVERAGE_ITEM: 0.1052107, COVERAGE_ITEM_CORRECT: 0.0717094, COVERAGE_USER: 0.9996337, COVERAGE_USER_CORRECT: 0.9731868, DIVERSITY_GINI: 0.0158062, SHANNON_ENTROPY: 8.3843464, RATIO_DIVERSITY_HERFINDAHL: 0.9940289, RATIO_DIVERSITY_GINI: 0.0637632, RATIO_SHANNON_ENTROPY: 0.6766928, RATIO_AVERAGE_POPULARITY: 2.4478660, RATIO_NOVELTY: 0.0265035, \n",
      "\n",
      "Iteration No: 6 ended. Evaluation done at random point.\n",
      "Time taken: 3774.1141\n",
      "Function value obtained: -0.2472\n",
      "Current minimum: -0.2489\n",
      "Iteration No: 7 started. Evaluating function at random point.\n",
      "SearchBayesianSkopt: Testing config: {'l1_ratio': 0.0005522742712251818, 'alpha': 0.019953201428999933, 'topK': 730}\n"
     ]
    },
    {
     "name": "stdout",
     "output_type": "stream",
     "text": [
      "SLIMElasticNetRecommender: Processed 1351 ( 7.5%) in 5.00 min. Items per second: 4.50\n"
     ]
    },
    {
     "name": "stdout",
     "output_type": "stream",
     "text": [
      "SLIMElasticNetRecommender: Processed 2720 (15.1%) in 10.01 min. Items per second: 4.53\n"
     ]
    },
    {
     "name": "stdout",
     "output_type": "stream",
     "text": [
      "SLIMElasticNetRecommender: Processed 4066 (22.5%) in 15.01 min. Items per second: 4.51\n"
     ]
    },
    {
     "name": "stdout",
     "output_type": "stream",
     "text": [
      "SLIMElasticNetRecommender: Processed 5453 (30.2%) in 20.01 min. Items per second: 4.54\n"
     ]
    },
    {
     "name": "stdout",
     "output_type": "stream",
     "text": [
      "SLIMElasticNetRecommender: Processed 6823 (37.8%) in 25.01 min. Items per second: 4.55\n"
     ]
    },
    {
     "name": "stdout",
     "output_type": "stream",
     "text": [
      "SLIMElasticNetRecommender: Processed 8233 (45.6%) in 30.02 min. Items per second: 4.57\n"
     ]
    },
    {
     "name": "stdout",
     "output_type": "stream",
     "text": [
      "SLIMElasticNetRecommender: Processed 9591 (53.1%) in 35.02 min. Items per second: 4.56\n"
     ]
    },
    {
     "name": "stdout",
     "output_type": "stream",
     "text": [
      "SLIMElasticNetRecommender: Processed 10968 (60.7%) in 40.02 min. Items per second: 4.57\n"
     ]
    },
    {
     "name": "stdout",
     "output_type": "stream",
     "text": [
      "SLIMElasticNetRecommender: Processed 12341 (68.3%) in 45.02 min. Items per second: 4.57\n"
     ]
    },
    {
     "name": "stdout",
     "output_type": "stream",
     "text": [
      "SLIMElasticNetRecommender: Processed 13706 (75.9%) in 50.02 min. Items per second: 4.57\n"
     ]
    },
    {
     "name": "stdout",
     "output_type": "stream",
     "text": [
      "SLIMElasticNetRecommender: Processed 15077 (83.5%) in 55.03 min. Items per second: 4.57\n"
     ]
    },
    {
     "name": "stdout",
     "output_type": "stream",
     "text": [
      "SLIMElasticNetRecommender: Processed 16452 (91.1%) in 1.00 hour. Items per second: 4.57\n"
     ]
    },
    {
     "name": "stdout",
     "output_type": "stream",
     "text": [
      "SLIMElasticNetRecommender: Processed 17826 (98.7%) in 1.08 hour. Items per second: 4.57\n"
     ]
    },
    {
     "name": "stdout",
     "output_type": "stream",
     "text": [
      "SLIMElasticNetRecommender: Processed 18059 (100.0%) in 1.10 hour. Items per second: 4.57\n"
     ]
    },
    {
     "name": "stdout",
     "output_type": "stream",
     "text": [
      "EvaluatorHoldout: Processed 13645 (100.0%) in 23.92 sec. Users per second: 570\n"
     ]
    },
    {
     "name": "stdout",
     "output_type": "stream",
     "text": [
      "SearchBayesianSkopt: Config 6 is suboptimal. Config: {'l1_ratio': 0.0005522742712251818, 'alpha': 0.019953201428999933, 'topK': 730} - results: PRECISION: 0.3977721, PRECISION_RECALL_MIN_DEN: 0.3995698, RECALL: 0.0716991, MAP: 0.2439424, MAP_MIN_DEN: 0.2447927, MRR: 0.6416515, NDCG: 0.4103461, F1: 0.1214980, HIT_RATE: 0.9733968, ARHR_ALL_HITS: 1.2295269, NOVELTY: 0.0056993, AVERAGE_POPULARITY: 0.4629314, DIVERSITY_MEAN_INTER_LIST: 0.9456203, DIVERSITY_HERFINDAHL: 0.9945551, COVERAGE_ITEM: 0.1065950, COVERAGE_ITEM_CORRECT: 0.0772468, COVERAGE_USER: 0.9996337, COVERAGE_USER_CORRECT: 0.9730403, DIVERSITY_GINI: 0.0178927, SHANNON_ENTROPY: 8.5940220, RATIO_DIVERSITY_HERFINDAHL: 0.9949389, RATIO_DIVERSITY_GINI: 0.0721801, RATIO_SHANNON_ENTROPY: 0.6936155, RATIO_AVERAGE_POPULARITY: 2.3006108, RATIO_NOVELTY: 0.0268153, \n",
      "\n",
      "Iteration No: 7 ended. Evaluation done at random point.\n",
      "Time taken: 3976.0521\n",
      "Function value obtained: -0.2439\n",
      "Current minimum: -0.2489\n",
      "Iteration No: 8 started. Evaluating function at random point.\n",
      "SearchBayesianSkopt: Testing config: {'l1_ratio': 0.00074136697305812, 'alpha': 0.047271234031034476, 'topK': 2161}\n"
     ]
    },
    {
     "name": "stdout",
     "output_type": "stream",
     "text": [
      "SLIMElasticNetRecommender: Processed 1399 ( 7.7%) in 5.00 min. Items per second: 4.66\n"
     ]
    },
    {
     "name": "stdout",
     "output_type": "stream",
     "text": [
      "SLIMElasticNetRecommender: Processed 2803 (15.5%) in 10.00 min. Items per second: 4.67\n"
     ]
    },
    {
     "name": "stdout",
     "output_type": "stream",
     "text": [
      "SLIMElasticNetRecommender: Processed 4205 (23.3%) in 15.01 min. Items per second: 4.67\n"
     ]
    },
    {
     "name": "stdout",
     "output_type": "stream",
     "text": [
      "SLIMElasticNetRecommender: Processed 5623 (31.1%) in 20.01 min. Items per second: 4.68\n"
     ]
    },
    {
     "name": "stdout",
     "output_type": "stream",
     "text": [
      "SLIMElasticNetRecommender: Processed 7045 (39.0%) in 25.01 min. Items per second: 4.69\n"
     ]
    },
    {
     "name": "stdout",
     "output_type": "stream",
     "text": [
      "SLIMElasticNetRecommender: Processed 8474 (46.9%) in 30.01 min. Items per second: 4.71\n"
     ]
    },
    {
     "name": "stdout",
     "output_type": "stream",
     "text": [
      "SLIMElasticNetRecommender: Processed 9865 (54.6%) in 35.01 min. Items per second: 4.70\n"
     ]
    },
    {
     "name": "stdout",
     "output_type": "stream",
     "text": [
      "SLIMElasticNetRecommender: Processed 11268 (62.4%) in 40.01 min. Items per second: 4.69\n"
     ]
    },
    {
     "name": "stdout",
     "output_type": "stream",
     "text": [
      "SLIMElasticNetRecommender: Processed 12652 (70.1%) in 45.02 min. Items per second: 4.68\n"
     ]
    },
    {
     "name": "stdout",
     "output_type": "stream",
     "text": [
      "SLIMElasticNetRecommender: Processed 14022 (77.6%) in 50.02 min. Items per second: 4.67\n"
     ]
    }
   ],
   "source": [
    "#let's run the bayesian search\n",
    "hyperparameterSearch.search(recommender_input_args = recommender_input_args,\n",
    "                       recommender_input_args_last_test = recommender_input_args_last_test,\n",
    "                       hyperparameter_search_space = hyperparameters_range_dictionary,\n",
    "                       n_cases = n_cases,\n",
    "                       n_random_starts = n_random_starts,\n",
    "                       save_model = \"last\",\n",
    "                       output_folder_path = output_folder_path, # Where to save the results\n",
    "                       output_file_name_root = recommender_class.RECOMMENDER_NAME, # How to call the files\n",
    "                       metric_to_optimize = metric_to_optimize,\n",
    "                       cutoff_to_optimize = cutoff_to_optimize,\n",
    "                      )"
   ]
  },
  {
   "cell_type": "code",
   "execution_count": null,
   "id": "72a510be",
   "metadata": {
    "papermill": {
     "duration": null,
     "end_time": null,
     "exception": null,
     "start_time": null,
     "status": "pending"
    },
    "tags": []
   },
   "outputs": [],
   "source": [
    "from Recommenders.DataIO import DataIO\n",
    "\n",
    "#explore the results of the search\n",
    "data_loader = DataIO(folder_path = output_folder_path)\n",
    "search_metadata = data_loader.load_data(recommender_class.RECOMMENDER_NAME + \"_metadata.zip\")\n",
    "\n",
    "search_metadata.keys()"
   ]
  },
  {
   "cell_type": "code",
   "execution_count": null,
   "id": "cca7bf00",
   "metadata": {
    "papermill": {
     "duration": null,
     "end_time": null,
     "exception": null,
     "start_time": null,
     "status": "pending"
    },
    "tags": []
   },
   "outputs": [],
   "source": [
    "hyperparameters_df = search_metadata[\"hyperparameters_df\"]\n",
    "hyperparameters_df"
   ]
  },
  {
   "cell_type": "code",
   "execution_count": null,
   "id": "47e43856",
   "metadata": {
    "papermill": {
     "duration": null,
     "end_time": null,
     "exception": null,
     "start_time": null,
     "status": "pending"
    },
    "tags": []
   },
   "outputs": [],
   "source": [
    "result_on_validation_df = search_metadata[\"result_on_validation_df\"]\n",
    "result_on_validation_df"
   ]
  },
  {
   "cell_type": "code",
   "execution_count": null,
   "id": "ec747617",
   "metadata": {
    "papermill": {
     "duration": null,
     "end_time": null,
     "exception": null,
     "start_time": null,
     "status": "pending"
    },
    "tags": []
   },
   "outputs": [],
   "source": [
    "best_hyperparameters = search_metadata[\"hyperparameters_best\"]\n",
    "best_hyperparameters"
   ]
  },
  {
   "cell_type": "markdown",
   "id": "1a202249",
   "metadata": {
    "papermill": {
     "duration": null,
     "end_time": null,
     "exception": null,
     "start_time": null,
     "status": "pending"
    },
    "tags": []
   },
   "source": [
    "# Create final recommendations"
   ]
  },
  {
   "cell_type": "code",
   "execution_count": null,
   "id": "b38cc5c9",
   "metadata": {
    "execution": {
     "iopub.execute_input": "2021-12-15T20:28:01.601206Z",
     "iopub.status.busy": "2021-12-15T20:28:01.600899Z",
     "iopub.status.idle": "2021-12-15T21:43:41.48667Z",
     "shell.execute_reply": "2021-12-15T21:43:41.485277Z",
     "shell.execute_reply.started": "2021-12-15T20:28:01.601173Z"
    },
    "papermill": {
     "duration": null,
     "end_time": null,
     "exception": null,
     "start_time": null,
     "status": "pending"
    },
    "tags": []
   },
   "outputs": [],
   "source": [
    "#let's fit the model with the hyperparamethers obtained from the previous search and evaluate them on validation set\n",
    "\n",
    "recommender = SLIMElasticNetRecommender(URM_all)\n",
    "recommender.fit()\n",
    "#evaluator_valid.evaluateRecommender(recommender)"
   ]
  },
  {
   "cell_type": "code",
   "execution_count": null,
   "id": "b6865a10",
   "metadata": {
    "execution": {
     "iopub.execute_input": "2021-12-15T21:45:45.249438Z",
     "iopub.status.busy": "2021-12-15T21:45:45.248484Z",
     "iopub.status.idle": "2021-12-15T21:45:48.515659Z",
     "shell.execute_reply": "2021-12-15T21:45:48.514573Z",
     "shell.execute_reply.started": "2021-12-15T21:45:45.249373Z"
    },
    "papermill": {
     "duration": null,
     "end_time": null,
     "exception": null,
     "start_time": null,
     "status": "pending"
    },
    "tags": []
   },
   "outputs": [],
   "source": [
    "recommender.save_model(output_folder_path, file_name = recommender.RECOMMENDER_NAME + \"_my_own_save.zip\" )"
   ]
  },
  {
   "cell_type": "code",
   "execution_count": null,
   "id": "bcd26466",
   "metadata": {
    "execution": {
     "iopub.execute_input": "2021-12-15T21:45:50.793567Z",
     "iopub.status.busy": "2021-12-15T21:45:50.793162Z",
     "iopub.status.idle": "2021-12-15T21:45:50.819897Z",
     "shell.execute_reply": "2021-12-15T21:45:50.818935Z",
     "shell.execute_reply.started": "2021-12-15T21:45:50.793536Z"
    },
    "papermill": {
     "duration": null,
     "end_time": null,
     "exception": null,
     "start_time": null,
     "status": "pending"
    },
    "tags": []
   },
   "outputs": [],
   "source": [
    "test_users = pd.read_csv('../input/recommender-system-2021-challenge-polimi/data_target_users_test.csv')\n",
    "test_users"
   ]
  },
  {
   "cell_type": "code",
   "execution_count": null,
   "id": "86eab901",
   "metadata": {
    "execution": {
     "iopub.execute_input": "2021-12-15T21:45:54.026424Z",
     "iopub.status.busy": "2021-12-15T21:45:54.026135Z",
     "iopub.status.idle": "2021-12-15T21:46:16.36993Z",
     "shell.execute_reply": "2021-12-15T21:46:16.369107Z",
     "shell.execute_reply.started": "2021-12-15T21:45:54.026393Z"
    },
    "papermill": {
     "duration": null,
     "end_time": null,
     "exception": null,
     "start_time": null,
     "status": "pending"
    },
    "tags": []
   },
   "outputs": [],
   "source": [
    "user_id = test_users['user_id']\n",
    "recommendations = []\n",
    "for user in user_id:\n",
    "    recommendations.append(recommender.recommend(user,cutoff = 10))"
   ]
  },
  {
   "cell_type": "code",
   "execution_count": null,
   "id": "c1dc7e0b",
   "metadata": {
    "execution": {
     "iopub.execute_input": "2021-12-15T21:46:19.110192Z",
     "iopub.status.busy": "2021-12-15T21:46:19.109928Z",
     "iopub.status.idle": "2021-12-15T21:46:20.119302Z",
     "shell.execute_reply": "2021-12-15T21:46:20.118316Z",
     "shell.execute_reply.started": "2021-12-15T21:46:19.110164Z"
    },
    "papermill": {
     "duration": null,
     "end_time": null,
     "exception": null,
     "start_time": null,
     "status": "pending"
    },
    "tags": []
   },
   "outputs": [],
   "source": [
    "for index in range(len(recommendations)):\n",
    "    recommendations[index]=np.array(recommendations[index])\n",
    "    \n",
    "test_users['item_list']= recommendations\n",
    "test_users['item_list'] = pd.DataFrame([str(line).strip('[').strip(']').replace(\"'\",\"\") for line in test_users['item_list']])\n",
    "test_users.to_csv('submission.csv', index=False)"
   ]
  }
 ],
 "metadata": {
  "kernelspec": {
   "display_name": "Python 3",
   "language": "python",
   "name": "python3"
  },
  "language_info": {
   "codemirror_mode": {
    "name": "ipython",
    "version": 3
   },
   "file_extension": ".py",
   "mimetype": "text/x-python",
   "name": "python",
   "nbconvert_exporter": "python",
   "pygments_lexer": "ipython3",
   "version": "3.6.4"
  },
  "papermill": {
   "default_parameters": {},
   "duration": null,
   "end_time": null,
   "environment_variables": {},
   "exception": null,
   "input_path": "__notebook__.ipynb",
   "output_path": "__notebook__.ipynb",
   "parameters": {},
   "start_time": "2021-12-30T21:30:09.628238",
   "version": "2.3.3"
  }
 },
 "nbformat": 4,
 "nbformat_minor": 5
}