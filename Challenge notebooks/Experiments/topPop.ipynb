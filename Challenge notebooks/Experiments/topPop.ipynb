{
 "cells": [
  {
   "cell_type": "code",
   "execution_count": 1,
   "id": "6c3b0327",
   "metadata": {
    "execution": {
     "iopub.execute_input": "2021-11-19T17:37:21.850403Z",
     "iopub.status.busy": "2021-11-19T17:37:21.848738Z",
     "iopub.status.idle": "2021-11-19T17:37:23.714718Z",
     "shell.execute_reply": "2021-11-19T17:37:23.713845Z",
     "shell.execute_reply.started": "2021-11-19T17:32:07.869856Z"
    },
    "papermill": {
     "duration": 1.891911,
     "end_time": "2021-11-19T17:37:23.714916",
     "exception": false,
     "start_time": "2021-11-19T17:37:21.823005",
     "status": "completed"
    },
    "tags": []
   },
   "outputs": [],
   "source": [
    "!cp -r ../input/recsys-repo/RecSys_Course_AT_PoliMi-master/* ./"
   ]
  },
  {
   "cell_type": "code",
   "execution_count": 2,
   "id": "e41879a7",
   "metadata": {
    "_cell_guid": "b1076dfc-b9ad-4769-8c92-a6c4dae69d19",
    "_uuid": "8f2839f25d086af736a60e9eeb907d3b93b6e0e5",
    "execution": {
     "iopub.execute_input": "2021-11-19T17:37:23.770696Z",
     "iopub.status.busy": "2021-11-19T17:37:23.769867Z",
     "iopub.status.idle": "2021-11-19T17:37:23.919510Z",
     "shell.execute_reply": "2021-11-19T17:37:23.918943Z",
     "shell.execute_reply.started": "2021-11-19T17:32:09.886852Z"
    },
    "papermill": {
     "duration": 0.184548,
     "end_time": "2021-11-19T17:37:23.919653",
     "exception": false,
     "start_time": "2021-11-19T17:37:23.735105",
     "status": "completed"
    },
    "tags": []
   },
   "outputs": [],
   "source": [
    "%config Completer.use_jedi = False\n",
    "import pandas as pd\n",
    "import numpy as np\n",
    "import scipy.sparse as sps\n",
    "import matplotlib.pyplot as pyplot\n",
    "from Data_manager.split_functions.split_train_validation_random_holdout import split_train_in_two_percentage_global_sample\n",
    "from Evaluation.Evaluator import EvaluatorHoldout\n"
   ]
  },
  {
   "cell_type": "code",
   "execution_count": 3,
   "id": "016b1241",
   "metadata": {
    "execution": {
     "iopub.execute_input": "2021-11-19T17:37:23.964422Z",
     "iopub.status.busy": "2021-11-19T17:37:23.963768Z",
     "iopub.status.idle": "2021-11-19T17:37:25.673373Z",
     "shell.execute_reply": "2021-11-19T17:37:25.672756Z",
     "shell.execute_reply.started": "2021-11-19T17:32:10.041042Z"
    },
    "papermill": {
     "duration": 1.735191,
     "end_time": "2021-11-19T17:37:25.673535",
     "exception": false,
     "start_time": "2021-11-19T17:37:23.938344",
     "status": "completed"
    },
    "tags": []
   },
   "outputs": [],
   "source": [
    "URM_path = \"../input/recommender-system-2021-challenge-polimi/data_train.csv\"\n",
    "URM_all_dataframe = pd.read_csv(filepath_or_buffer=URM_path, \n",
    "                                sep=\",\",\n",
    "                                dtype={0:int, 1:int, 2:float},\n",
    "                                header=0)\n",
    "URM_all_dataframe.columns = [\"UserID\", \"ItemID\", \"Interaction\"]"
   ]
  },
  {
   "cell_type": "code",
   "execution_count": 4,
   "id": "265e1f2c",
   "metadata": {
    "execution": {
     "iopub.execute_input": "2021-11-19T17:37:25.732164Z",
     "iopub.status.busy": "2021-11-19T17:37:25.731358Z",
     "iopub.status.idle": "2021-11-19T17:37:25.744186Z",
     "shell.execute_reply": "2021-11-19T17:37:25.744631Z",
     "shell.execute_reply.started": "2021-11-19T17:32:11.903205Z"
    },
    "papermill": {
     "duration": 0.046793,
     "end_time": "2021-11-19T17:37:25.744789",
     "exception": false,
     "start_time": "2021-11-19T17:37:25.697996",
     "status": "completed"
    },
    "tags": []
   },
   "outputs": [
    {
     "data": {
      "text/html": [
       "<div>\n",
       "<style scoped>\n",
       "    .dataframe tbody tr th:only-of-type {\n",
       "        vertical-align: middle;\n",
       "    }\n",
       "\n",
       "    .dataframe tbody tr th {\n",
       "        vertical-align: top;\n",
       "    }\n",
       "\n",
       "    .dataframe thead th {\n",
       "        text-align: right;\n",
       "    }\n",
       "</style>\n",
       "<table border=\"1\" class=\"dataframe\">\n",
       "  <thead>\n",
       "    <tr style=\"text-align: right;\">\n",
       "      <th></th>\n",
       "      <th>UserID</th>\n",
       "      <th>ItemID</th>\n",
       "      <th>Interaction</th>\n",
       "    </tr>\n",
       "  </thead>\n",
       "  <tbody>\n",
       "    <tr>\n",
       "      <th>0</th>\n",
       "      <td>0</td>\n",
       "      <td>53</td>\n",
       "      <td>1.0</td>\n",
       "    </tr>\n",
       "    <tr>\n",
       "      <th>1</th>\n",
       "      <td>0</td>\n",
       "      <td>209</td>\n",
       "      <td>1.0</td>\n",
       "    </tr>\n",
       "    <tr>\n",
       "      <th>2</th>\n",
       "      <td>0</td>\n",
       "      <td>223</td>\n",
       "      <td>1.0</td>\n",
       "    </tr>\n",
       "    <tr>\n",
       "      <th>3</th>\n",
       "      <td>0</td>\n",
       "      <td>249</td>\n",
       "      <td>1.0</td>\n",
       "    </tr>\n",
       "    <tr>\n",
       "      <th>4</th>\n",
       "      <td>0</td>\n",
       "      <td>435</td>\n",
       "      <td>1.0</td>\n",
       "    </tr>\n",
       "  </tbody>\n",
       "</table>\n",
       "</div>"
      ],
      "text/plain": [
       "   UserID  ItemID  Interaction\n",
       "0       0      53          1.0\n",
       "1       0     209          1.0\n",
       "2       0     223          1.0\n",
       "3       0     249          1.0\n",
       "4       0     435          1.0"
      ]
     },
     "execution_count": 4,
     "metadata": {},
     "output_type": "execute_result"
    }
   ],
   "source": [
    "URM_all_dataframe.head()"
   ]
  },
  {
   "cell_type": "code",
   "execution_count": 5,
   "id": "ad005ba2",
   "metadata": {
    "execution": {
     "iopub.execute_input": "2021-11-19T17:37:25.787742Z",
     "iopub.status.busy": "2021-11-19T17:37:25.786865Z",
     "iopub.status.idle": "2021-11-19T17:37:25.791371Z",
     "shell.execute_reply": "2021-11-19T17:37:25.790793Z",
     "shell.execute_reply.started": "2021-11-19T17:32:11.929779Z"
    },
    "papermill": {
     "duration": 0.027495,
     "end_time": "2021-11-19T17:37:25.791526",
     "exception": false,
     "start_time": "2021-11-19T17:37:25.764031",
     "status": "completed"
    },
    "tags": []
   },
   "outputs": [
    {
     "name": "stdout",
     "output_type": "stream",
     "text": [
      "The number of interactions is 5285664\n"
     ]
    }
   ],
   "source": [
    "print (\"The number of interactions is {}\".format(len(URM_all_dataframe)))"
   ]
  },
  {
   "cell_type": "code",
   "execution_count": 6,
   "id": "11cd5974",
   "metadata": {
    "execution": {
     "iopub.execute_input": "2021-11-19T17:37:25.849145Z",
     "iopub.status.busy": "2021-11-19T17:37:25.848165Z",
     "iopub.status.idle": "2021-11-19T17:37:25.946468Z",
     "shell.execute_reply": "2021-11-19T17:37:25.945622Z",
     "shell.execute_reply.started": "2021-11-19T17:32:11.939410Z"
    },
    "papermill": {
     "duration": 0.130514,
     "end_time": "2021-11-19T17:37:25.946645",
     "exception": false,
     "start_time": "2021-11-19T17:37:25.816131",
     "status": "completed"
    },
    "tags": []
   },
   "outputs": [],
   "source": [
    "userID_unique = URM_all_dataframe[\"UserID\"].unique()\n",
    "itemID_unique = URM_all_dataframe[\"ItemID\"].unique()"
   ]
  },
  {
   "cell_type": "code",
   "execution_count": 7,
   "id": "9d542177",
   "metadata": {
    "execution": {
     "iopub.execute_input": "2021-11-19T17:37:25.999933Z",
     "iopub.status.busy": "2021-11-19T17:37:25.998974Z",
     "iopub.status.idle": "2021-11-19T17:37:26.091610Z",
     "shell.execute_reply": "2021-11-19T17:37:26.090782Z",
     "shell.execute_reply.started": "2021-11-19T17:32:12.039476Z"
    },
    "papermill": {
     "duration": 0.121851,
     "end_time": "2021-11-19T17:37:26.091821",
     "exception": false,
     "start_time": "2021-11-19T17:37:25.969970",
     "status": "completed"
    },
    "tags": []
   },
   "outputs": [
    {
     "name": "stdout",
     "output_type": "stream",
     "text": [
      "Number of items\t 18059, Number of users\t 13650\n",
      "Max ID items\t 18058, Max Id users\t 13649\n",
      "\n",
      "Average interactions per user 387.23\n",
      "Average interactions per item 292.69\n",
      "\n",
      "Sparsity 97.86 %\n"
     ]
    }
   ],
   "source": [
    "userID_unique = URM_all_dataframe[\"UserID\"].unique()\n",
    "itemID_unique = URM_all_dataframe[\"ItemID\"].unique()\n",
    "\n",
    "n_users = len(userID_unique)\n",
    "n_items = len(itemID_unique)\n",
    "n_interactions = len(URM_all_dataframe)\n",
    "\n",
    "print (\"Number of items\\t {}, Number of users\\t {}\".format(n_items, n_users))\n",
    "print (\"Max ID items\\t {}, Max Id users\\t {}\\n\".format(max(itemID_unique), max(userID_unique)))\n",
    "print (\"Average interactions per user {:.2f}\".format(n_interactions/n_users))\n",
    "print (\"Average interactions per item {:.2f}\\n\".format(n_interactions/n_items))\n",
    "\n",
    "print (\"Sparsity {:.2f} %\".format((1-float(n_interactions)/(n_items*n_users))*100))"
   ]
  },
  {
   "cell_type": "markdown",
   "id": "21bdfe89",
   "metadata": {
    "papermill": {
     "duration": 0.020144,
     "end_time": "2021-11-19T17:37:26.134602",
     "exception": false,
     "start_time": "2021-11-19T17:37:26.114458",
     "status": "completed"
    },
    "tags": []
   },
   "source": [
    "There isn't the problem of empty indices "
   ]
  },
  {
   "cell_type": "markdown",
   "id": "8bf49069",
   "metadata": {
    "papermill": {
     "duration": 0.019096,
     "end_time": "2021-11-19T17:37:26.173558",
     "exception": false,
     "start_time": "2021-11-19T17:37:26.154462",
     "status": "completed"
    },
    "tags": []
   },
   "source": [
    "# Item popularity"
   ]
  },
  {
   "cell_type": "code",
   "execution_count": 8,
   "id": "27e07e43",
   "metadata": {
    "execution": {
     "iopub.execute_input": "2021-11-19T17:37:26.218660Z",
     "iopub.status.busy": "2021-11-19T17:37:26.217727Z",
     "iopub.status.idle": "2021-11-19T17:37:26.283536Z",
     "shell.execute_reply": "2021-11-19T17:37:26.284454Z",
     "shell.execute_reply.started": "2021-11-19T17:32:12.131894Z"
    },
    "papermill": {
     "duration": 0.090889,
     "end_time": "2021-11-19T17:37:26.284696",
     "exception": false,
     "start_time": "2021-11-19T17:37:26.193807",
     "status": "completed"
    },
    "tags": []
   },
   "outputs": [
    {
     "data": {
      "text/plain": [
       "<13650x18059 sparse matrix of type '<class 'numpy.float64'>'\n",
       "\twith 5285664 stored elements in COOrdinate format>"
      ]
     },
     "execution_count": 8,
     "metadata": {},
     "output_type": "execute_result"
    }
   ],
   "source": [
    "import scipy.sparse as sps\n",
    "\n",
    "URM_all = sps.coo_matrix((URM_all_dataframe[\"Interaction\"].values, \n",
    "                          (URM_all_dataframe[\"UserID\"].values, URM_all_dataframe[\"ItemID\"].values)))\n",
    "\n",
    "URM_all"
   ]
  },
  {
   "cell_type": "code",
   "execution_count": 9,
   "id": "f0a2205c",
   "metadata": {
    "execution": {
     "iopub.execute_input": "2021-11-19T17:37:26.342411Z",
     "iopub.status.busy": "2021-11-19T17:37:26.339483Z",
     "iopub.status.idle": "2021-11-19T17:37:26.436383Z",
     "shell.execute_reply": "2021-11-19T17:37:26.436860Z",
     "shell.execute_reply.started": "2021-11-19T17:32:12.192542Z"
    },
    "papermill": {
     "duration": 0.121469,
     "end_time": "2021-11-19T17:37:26.437077",
     "exception": false,
     "start_time": "2021-11-19T17:37:26.315608",
     "status": "completed"
    },
    "tags": []
   },
   "outputs": [
    {
     "data": {
      "text/plain": [
       "<13650x18059 sparse matrix of type '<class 'numpy.float64'>'\n",
       "\twith 5285664 stored elements in Compressed Sparse Row format>"
      ]
     },
     "execution_count": 9,
     "metadata": {},
     "output_type": "execute_result"
    }
   ],
   "source": [
    "URM_all = sps.csr_matrix((URM_all_dataframe[\"Interaction\"].values, \n",
    "                          (URM_all_dataframe[\"UserID\"].values, URM_all_dataframe[\"ItemID\"].values)),\n",
    "                        shape = (n_users, n_items))\n",
    "\n",
    "URM_all"
   ]
  },
  {
   "cell_type": "code",
   "execution_count": 10,
   "id": "6bbfe7fa",
   "metadata": {
    "execution": {
     "iopub.execute_input": "2021-11-19T17:37:26.485156Z",
     "iopub.status.busy": "2021-11-19T17:37:26.484422Z",
     "iopub.status.idle": "2021-11-19T17:37:26.602643Z",
     "shell.execute_reply": "2021-11-19T17:37:26.603143Z",
     "shell.execute_reply.started": "2021-11-19T17:32:12.294148Z"
    },
    "papermill": {
     "duration": 0.144923,
     "end_time": "2021-11-19T17:37:26.603344",
     "exception": false,
     "start_time": "2021-11-19T17:37:26.458421",
     "status": "completed"
    },
    "tags": []
   },
   "outputs": [
    {
     "data": {
      "text/plain": [
       "array([ 14, 156,  49, ..., 458,  48,  98], dtype=int32)"
      ]
     },
     "execution_count": 10,
     "metadata": {},
     "output_type": "execute_result"
    }
   ],
   "source": [
    "item_popularity = np.ediff1d(URM_all.tocsc().indptr)\n",
    "item_popularity"
   ]
  },
  {
   "cell_type": "markdown",
   "id": "75cdec64",
   "metadata": {
    "papermill": {
     "duration": 0.020884,
     "end_time": "2021-11-19T17:37:26.645812",
     "exception": false,
     "start_time": "2021-11-19T17:37:26.624928",
     "status": "completed"
    },
    "tags": []
   },
   "source": []
  },
  {
   "cell_type": "code",
   "execution_count": 11,
   "id": "fbaefdd1",
   "metadata": {
    "execution": {
     "iopub.execute_input": "2021-11-19T17:37:26.692384Z",
     "iopub.status.busy": "2021-11-19T17:37:26.691125Z",
     "iopub.status.idle": "2021-11-19T17:37:26.698558Z",
     "shell.execute_reply": "2021-11-19T17:37:26.698046Z",
     "shell.execute_reply.started": "2021-11-19T17:32:12.422780Z"
    },
    "papermill": {
     "duration": 0.031948,
     "end_time": "2021-11-19T17:37:26.698692",
     "exception": false,
     "start_time": "2021-11-19T17:37:26.666744",
     "status": "completed"
    },
    "tags": []
   },
   "outputs": [
    {
     "data": {
      "text/plain": [
       "array([    3,     3,     3, ..., 10109, 10118, 11199], dtype=int32)"
      ]
     },
     "execution_count": 11,
     "metadata": {},
     "output_type": "execute_result"
    }
   ],
   "source": [
    "item_popularity = np.sort(item_popularity)\n",
    "item_popularity"
   ]
  },
  {
   "cell_type": "code",
   "execution_count": 12,
   "id": "657f21d3",
   "metadata": {
    "execution": {
     "iopub.execute_input": "2021-11-19T17:37:26.742595Z",
     "iopub.status.busy": "2021-11-19T17:37:26.741960Z",
     "iopub.status.idle": "2021-11-19T17:37:27.001668Z",
     "shell.execute_reply": "2021-11-19T17:37:27.002203Z",
     "shell.execute_reply.started": "2021-11-19T17:32:12.432071Z"
    },
    "papermill": {
     "duration": 0.283597,
     "end_time": "2021-11-19T17:37:27.002396",
     "exception": false,
     "start_time": "2021-11-19T17:37:26.718799",
     "status": "completed"
    },
    "tags": []
   },
   "outputs": [
    {
     "data": {
      "image/png": "[encoded data removed]",
      "text/plain": [
       "<Figure size 432x288 with 1 Axes>"
      ]
     },
     "metadata": {
      "needs_background": "light"
     },
     "output_type": "display_data"
    }
   ],
   "source": [
    "pyplot.plot(item_popularity, 'ro')\n",
    "pyplot.ylabel('Num Interactions ')\n",
    "pyplot.xlabel('Sorted Item')\n",
    "pyplot.show()"
   ]
  },
  {
   "cell_type": "code",
   "execution_count": 13,
   "id": "50d74df2",
   "metadata": {
    "execution": {
     "iopub.execute_input": "2021-11-19T17:37:27.055084Z",
     "iopub.status.busy": "2021-11-19T17:37:27.054301Z",
     "iopub.status.idle": "2021-11-19T17:37:27.059072Z",
     "shell.execute_reply": "2021-11-19T17:37:27.059497Z",
     "shell.execute_reply.started": "2021-11-19T17:32:12.701674Z"
    },
    "papermill": {
     "duration": 0.033255,
     "end_time": "2021-11-19T17:37:27.059673",
     "exception": false,
     "start_time": "2021-11-19T17:37:27.026418",
     "status": "completed"
    },
    "tags": []
   },
   "outputs": [
    {
     "name": "stdout",
     "output_type": "stream",
     "text": [
      "Number of items with zero interactions 0\n"
     ]
    }
   ],
   "source": [
    "print(\"Number of items with zero interactions {}\".\n",
    "      format(np.sum(item_popularity==0)))"
   ]
  },
  {
   "cell_type": "markdown",
   "id": "a596b115",
   "metadata": {
    "papermill": {
     "duration": 0.022027,
     "end_time": "2021-11-19T17:37:27.104173",
     "exception": false,
     "start_time": "2021-11-19T17:37:27.082146",
     "status": "completed"
    },
    "tags": []
   },
   "source": [
    "# User activity"
   ]
  },
  {
   "cell_type": "code",
   "execution_count": 14,
   "id": "85590cdf",
   "metadata": {
    "execution": {
     "iopub.execute_input": "2021-11-19T17:37:27.152475Z",
     "iopub.status.busy": "2021-11-19T17:37:27.151869Z",
     "iopub.status.idle": "2021-11-19T17:37:27.358545Z",
     "shell.execute_reply": "2021-11-19T17:37:27.359237Z",
     "shell.execute_reply.started": "2021-11-19T17:32:12.708759Z"
    },
    "papermill": {
     "duration": 0.232709,
     "end_time": "2021-11-19T17:37:27.359411",
     "exception": false,
     "start_time": "2021-11-19T17:37:27.126702",
     "status": "completed"
    },
    "tags": []
   },
   "outputs": [
    {
     "data": {
      "image/png": "[encoded data removed]",
      "text/plain": [
       "<Figure size 432x288 with 1 Axes>"
      ]
     },
     "metadata": {
      "needs_background": "light"
     },
     "output_type": "display_data"
    }
   ],
   "source": [
    "user_activity = np.ediff1d(URM_all.tocsr().indptr)\n",
    "user_activity = np.sort(user_activity)\n",
    "\n",
    "\n",
    "pyplot.plot(user_activity, 'ro')\n",
    "pyplot.ylabel('Num Interactions ')\n",
    "pyplot.xlabel('Sorted User')\n",
    "pyplot.show()"
   ]
  },
  {
   "cell_type": "markdown",
   "id": "c562018c",
   "metadata": {
    "papermill": {
     "duration": 0.022795,
     "end_time": "2021-11-19T17:37:27.406371",
     "exception": false,
     "start_time": "2021-11-19T17:37:27.383576",
     "status": "completed"
    },
    "tags": []
   },
   "source": [
    "# Split into training and validation set"
   ]
  },
  {
   "cell_type": "code",
   "execution_count": 15,
   "id": "bd6d7f3f",
   "metadata": {
    "execution": {
     "iopub.execute_input": "2021-11-19T17:37:27.454697Z",
     "iopub.status.busy": "2021-11-19T17:37:27.454106Z",
     "iopub.status.idle": "2021-11-19T17:37:27.548734Z",
     "shell.execute_reply": "2021-11-19T17:37:27.549217Z",
     "shell.execute_reply.started": "2021-11-19T17:32:12.941796Z"
    },
    "papermill": {
     "duration": 0.120048,
     "end_time": "2021-11-19T17:37:27.549395",
     "exception": false,
     "start_time": "2021-11-19T17:37:27.429347",
     "status": "completed"
    },
    "tags": []
   },
   "outputs": [
    {
     "data": {
      "text/plain": [
       "<13650x18059 sparse matrix of type '<class 'numpy.float64'>'\n",
       "\twith 5285664 stored elements in Compressed Sparse Row format>"
      ]
     },
     "execution_count": 15,
     "metadata": {},
     "output_type": "execute_result"
    }
   ],
   "source": [
    "URM_all = sps.csr_matrix((URM_all_dataframe[\"Interaction\"].values, \n",
    "                          (URM_all_dataframe[\"UserID\"].values, URM_all_dataframe[\"ItemID\"].values)),\n",
    "                        shape = (n_users, n_items))\n",
    "\n",
    "URM_all"
   ]
  },
  {
   "cell_type": "code",
   "execution_count": 16,
   "id": "24f9a0bf",
   "metadata": {
    "execution": {
     "iopub.execute_input": "2021-11-19T17:37:27.600181Z",
     "iopub.status.busy": "2021-11-19T17:37:27.599488Z",
     "iopub.status.idle": "2021-11-19T17:37:35.765672Z",
     "shell.execute_reply": "2021-11-19T17:37:35.766328Z",
     "shell.execute_reply.started": "2021-11-19T17:32:13.039721Z"
    },
    "papermill": {
     "duration": 8.194788,
     "end_time": "2021-11-19T17:37:35.766568",
     "exception": false,
     "start_time": "2021-11-19T17:37:27.571780",
     "status": "completed"
    },
    "tags": []
   },
   "outputs": [
    {
     "name": "stdout",
     "output_type": "stream",
     "text": [
      "Warning: 6 (0.04 %) of 13650 users have no sampled items\n",
      "EvaluatorHoldout: Ignoring 13644 ( 0.0%) Users that have less than 1 test interactions\n"
     ]
    }
   ],
   "source": [
    "URM_train, URM_valid = split_train_in_two_percentage_global_sample(URM_all, train_percentage = 0.80)\n",
    "evaluator_validation = EvaluatorHoldout(URM_valid, cutoff_list=[10])"
   ]
  },
  {
   "cell_type": "markdown",
   "id": "cda2f8af",
   "metadata": {
    "papermill": {
     "duration": 0.021991,
     "end_time": "2021-11-19T17:37:35.812745",
     "exception": false,
     "start_time": "2021-11-19T17:37:35.790754",
     "status": "completed"
    },
    "tags": []
   },
   "source": [
    "# Evaluation"
   ]
  },
  {
   "cell_type": "code",
   "execution_count": 17,
   "id": "ca6ac27d",
   "metadata": {
    "execution": {
     "iopub.execute_input": "2021-11-19T17:37:35.867108Z",
     "iopub.status.busy": "2021-11-19T17:37:35.866047Z",
     "iopub.status.idle": "2021-11-19T17:37:35.868330Z",
     "shell.execute_reply": "2021-11-19T17:37:35.868868Z",
     "shell.execute_reply.started": "2021-11-19T17:32:21.470751Z"
    },
    "papermill": {
     "duration": 0.033653,
     "end_time": "2021-11-19T17:37:35.869053",
     "exception": false,
     "start_time": "2021-11-19T17:37:35.835400",
     "status": "completed"
    },
    "tags": []
   },
   "outputs": [],
   "source": [
    "def recall(recommendations: np.array, relevant_items: np.array) -> float:\n",
    "    is_relevant = np.in1d(recommendations, relevant_items, assume_unique=True)\n",
    "    \n",
    "    recall_score = np.sum(is_relevant) / relevant_items.shape[0]\n",
    "    \n",
    "    return recall_score\n",
    "    \n",
    "    \n",
    "def precision(recommendations: np.array, relevant_items: np.array) -> float:\n",
    "    is_relevant = np.in1d(recommendations, relevant_items, assume_unique=True)\n",
    "    \n",
    "    precision_score = np.sum(is_relevant) / recommendations.shape[0]\n",
    "\n",
    "    return precision_score\n",
    "\n",
    "def MAP(recommendations: np.array, relevant_items: np.array) -> float:\n",
    "    is_relevant = np.in1d(recommendations, relevant_items, assume_unique=True)\n",
    "    \n",
    "    precision_at_k = is_relevant * np.cumsum(is_relevant, dtype=np.float32) / (1 + np.arange(is_relevant.shape[0]))\n",
    "\n",
    "    map_score = np.sum(precision_at_k) / np.min([relevant_items.shape[0], is_relevant.shape[0]])\n",
    "\n",
    "    return map_score\n",
    "    "
   ]
  },
  {
   "cell_type": "markdown",
   "id": "254baefc",
   "metadata": {
    "papermill": {
     "duration": 0.021903,
     "end_time": "2021-11-19T17:37:35.913247",
     "exception": false,
     "start_time": "2021-11-19T17:37:35.891344",
     "status": "completed"
    },
    "tags": []
   },
   "source": [
    "Maybe it would be better to use the funcation \"evaluator\" from Practice 4 - Building an ItemKNN Recommender From Scratch"
   ]
  },
  {
   "cell_type": "code",
   "execution_count": 18,
   "id": "e4724fda",
   "metadata": {
    "execution": {
     "iopub.execute_input": "2021-11-19T17:37:35.961225Z",
     "iopub.status.busy": "2021-11-19T17:37:35.960278Z",
     "iopub.status.idle": "2021-11-19T17:37:35.967260Z",
     "shell.execute_reply": "2021-11-19T17:37:35.967774Z",
     "shell.execute_reply.started": "2021-11-19T17:32:21.480969Z"
    },
    "papermill": {
     "duration": 0.032458,
     "end_time": "2021-11-19T17:37:35.967958",
     "exception": false,
     "start_time": "2021-11-19T17:37:35.935500",
     "status": "completed"
    },
    "tags": []
   },
   "outputs": [],
   "source": [
    "def evaluate_algorithm(URM_test, recommender_object, at=5):\n",
    "    \n",
    "    cumulative_precision = 0.0\n",
    "    cumulative_recall = 0.0\n",
    "    cumulative_MAP = 0.0\n",
    "    \n",
    "    num_eval = 0\n",
    "\n",
    "\n",
    "    for user_id in range(URM_test.shape[0]):\n",
    "\n",
    "        relevant_items = URM_test.indices[URM_test.indptr[user_id]:URM_test.indptr[user_id+1]]\n",
    "        \n",
    "        if len(relevant_items)>0:\n",
    "            \n",
    "            recommended_items = recommender_object.recommend(user_id, at=at)\n",
    "            num_eval+=1\n",
    "\n",
    "            cumulative_precision += precision(recommended_items, relevant_items)\n",
    "            cumulative_recall += recall(recommended_items, relevant_items)\n",
    "            cumulative_MAP += MAP(recommended_items, relevant_items)\n",
    "            \n",
    "    cumulative_precision /= num_eval\n",
    "    cumulative_recall /= num_eval\n",
    "    cumulative_MAP /= num_eval\n",
    "    \n",
    "    print(\"Recommender results are: Precision = {:.4f}, Recall = {:.4f}, MAP = {:.4f}\".format(\n",
    "        cumulative_precision, cumulative_recall, cumulative_MAP)) "
   ]
  },
  {
   "cell_type": "markdown",
   "id": "eba46820",
   "metadata": {
    "papermill": {
     "duration": 0.021764,
     "end_time": "2021-11-19T17:37:36.012272",
     "exception": false,
     "start_time": "2021-11-19T17:37:35.990508",
     "status": "completed"
    },
    "tags": []
   },
   "source": [
    "# TopPop"
   ]
  },
  {
   "cell_type": "code",
   "execution_count": 19,
   "id": "dea0affe",
   "metadata": {
    "execution": {
     "iopub.execute_input": "2021-11-19T17:37:36.060347Z",
     "iopub.status.busy": "2021-11-19T17:37:36.059426Z",
     "iopub.status.idle": "2021-11-19T17:37:36.066491Z",
     "shell.execute_reply": "2021-11-19T17:37:36.067016Z",
     "shell.execute_reply.started": "2021-11-19T17:32:21.500369Z"
    },
    "papermill": {
     "duration": 0.032459,
     "end_time": "2021-11-19T17:37:36.067181",
     "exception": false,
     "start_time": "2021-11-19T17:37:36.034722",
     "status": "completed"
    },
    "tags": []
   },
   "outputs": [],
   "source": [
    "class TopPopRecommender(object):\n",
    "\n",
    "    def fit(self, URM_train):\n",
    "        \n",
    "        self.URM_train = URM_train\n",
    "\n",
    "        item_popularity = np.ediff1d(URM_all.tocsc().indptr)\n",
    "\n",
    "        # We are not interested in sorting the popularity value,\n",
    "        # but to order the items according to it\n",
    "        self.popular_items = np.argsort(item_popularity)\n",
    "        self.popular_items = np.flip(self.popular_items, axis = 0)\n",
    "    \n",
    "    \n",
    "    def recommend(self, user_id, at=10, remove_seen=True):\n",
    "\n",
    "        if remove_seen:\n",
    "            seen_items = self.URM_train.indices[self.URM_train.indptr[user_id]:self.URM_train.indptr[user_id+1]]\n",
    "            \n",
    "            unseen_items_mask = np.in1d(self.popular_items, seen_items,\n",
    "                                        assume_unique=True, invert = True)\n",
    "\n",
    "            unseen_items = self.popular_items[unseen_items_mask]\n",
    "\n",
    "            recommended_items = unseen_items[0:at]\n",
    "\n",
    "        else:\n",
    "            recommended_items = self.popular_items[0:at]\n",
    "            \n",
    "\n",
    "        return recommended_items"
   ]
  },
  {
   "cell_type": "code",
   "execution_count": 20,
   "id": "30d51a3a",
   "metadata": {
    "execution": {
     "iopub.execute_input": "2021-11-19T17:37:36.114415Z",
     "iopub.status.busy": "2021-11-19T17:37:36.113745Z",
     "iopub.status.idle": "2021-11-19T17:37:36.117826Z",
     "shell.execute_reply": "2021-11-19T17:37:36.117387Z",
     "shell.execute_reply.started": "2021-11-19T17:32:21.511987Z"
    },
    "papermill": {
     "duration": 0.028829,
     "end_time": "2021-11-19T17:37:36.117979",
     "exception": false,
     "start_time": "2021-11-19T17:37:36.089150",
     "status": "completed"
    },
    "tags": []
   },
   "outputs": [],
   "source": [
    "URM_all = URM_all.tocsr()"
   ]
  },
  {
   "cell_type": "code",
   "execution_count": 21,
   "id": "c6dccb13",
   "metadata": {
    "execution": {
     "iopub.execute_input": "2021-11-19T17:37:36.167402Z",
     "iopub.status.busy": "2021-11-19T17:37:36.166679Z",
     "iopub.status.idle": "2021-11-19T17:37:36.291584Z",
     "shell.execute_reply": "2021-11-19T17:37:36.292325Z",
     "shell.execute_reply.started": "2021-11-19T17:34:23.628813Z"
    },
    "papermill": {
     "duration": 0.152317,
     "end_time": "2021-11-19T17:37:36.292552",
     "exception": false,
     "start_time": "2021-11-19T17:37:36.140235",
     "status": "completed"
    },
    "tags": []
   },
   "outputs": [
    {
     "name": "stdout",
     "output_type": "stream",
     "text": [
      "[ 3899  8635 16365  2665 13134 15778 13914 13229  3768  1551]\n",
      "[ 3473 16365 15119 14358  2665 14868   640  8207 13410  6011]\n",
      "[ 6177 17330 16365 15119  5273 14181 16846 10865  2665 13134]\n",
      "[ 3899  3473  6214  8635 17330 16365 15119  5273 14181 14358]\n",
      "[ 6177  3473  2665 15778  1259 14868  5403  6011  6652 16791]\n",
      "[ 3899  3473  6214  8635 17330 16365 15119  5273 14181 14358]\n",
      "[ 6214  5273 14181 14358 16846 13134  5925 13229  3768  1551]\n",
      "[ 3899  3473  8635 17330 15119  5273 14181 13134 15778  5925]\n",
      "[ 8635 10865  2665 15778  3768  1259 14868  4582  5403  3200]\n",
      "[ 3473  6214  8635 16365 15119 14181 16846 10865 15778  5925]\n"
     ]
    }
   ],
   "source": [
    "topPopRecommender = TopPopRecommender()\n",
    "topPopRecommender.fit(URM_all)\n",
    "\n",
    "for user_id in range(10):\n",
    "    print(topPopRecommender.recommend(user_id, at=10))"
   ]
  },
  {
   "cell_type": "code",
   "execution_count": 22,
   "id": "a2c3f9a3",
   "metadata": {
    "execution": {
     "iopub.execute_input": "2021-11-19T17:37:36.343328Z",
     "iopub.status.busy": "2021-11-19T17:37:36.342582Z",
     "iopub.status.idle": "2021-11-19T17:38:02.806090Z",
     "shell.execute_reply": "2021-11-19T17:38:02.806579Z",
     "shell.execute_reply.started": "2021-11-19T17:34:33.330058Z"
    },
    "papermill": {
     "duration": 26.490536,
     "end_time": "2021-11-19T17:38:02.806760",
     "exception": false,
     "start_time": "2021-11-19T17:37:36.316224",
     "status": "completed"
    },
    "tags": []
   },
   "outputs": [
    {
     "name": "stdout",
     "output_type": "stream",
     "text": [
      "Recommender results are: Precision = 0.0000, Recall = 0.0000, MAP = 0.0000\n"
     ]
    }
   ],
   "source": [
    "evaluate_algorithm(URM_valid, topPopRecommender, at=10)"
   ]
  },
  {
   "cell_type": "code",
   "execution_count": 23,
   "id": "65026008",
   "metadata": {
    "execution": {
     "iopub.execute_input": "2021-11-19T17:38:02.856564Z",
     "iopub.status.busy": "2021-11-19T17:38:02.855935Z",
     "iopub.status.idle": "2021-11-19T17:38:02.875713Z",
     "shell.execute_reply": "2021-11-19T17:38:02.875236Z",
     "shell.execute_reply.started": "2021-11-19T17:32:48.051842Z"
    },
    "papermill": {
     "duration": 0.046126,
     "end_time": "2021-11-19T17:38:02.875860",
     "exception": false,
     "start_time": "2021-11-19T17:38:02.829734",
     "status": "completed"
    },
    "tags": []
   },
   "outputs": [
    {
     "data": {
      "text/html": [
       "<div>\n",
       "<style scoped>\n",
       "    .dataframe tbody tr th:only-of-type {\n",
       "        vertical-align: middle;\n",
       "    }\n",
       "\n",
       "    .dataframe tbody tr th {\n",
       "        vertical-align: top;\n",
       "    }\n",
       "\n",
       "    .dataframe thead th {\n",
       "        text-align: right;\n",
       "    }\n",
       "</style>\n",
       "<table border=\"1\" class=\"dataframe\">\n",
       "  <thead>\n",
       "    <tr style=\"text-align: right;\">\n",
       "      <th></th>\n",
       "      <th>user_id</th>\n",
       "    </tr>\n",
       "  </thead>\n",
       "  <tbody>\n",
       "    <tr>\n",
       "      <th>0</th>\n",
       "      <td>0</td>\n",
       "    </tr>\n",
       "    <tr>\n",
       "      <th>1</th>\n",
       "      <td>1</td>\n",
       "    </tr>\n",
       "    <tr>\n",
       "      <th>2</th>\n",
       "      <td>2</td>\n",
       "    </tr>\n",
       "    <tr>\n",
       "      <th>3</th>\n",
       "      <td>3</td>\n",
       "    </tr>\n",
       "    <tr>\n",
       "      <th>4</th>\n",
       "      <td>4</td>\n",
       "    </tr>\n",
       "    <tr>\n",
       "      <th>...</th>\n",
       "      <td>...</td>\n",
       "    </tr>\n",
       "    <tr>\n",
       "      <th>13645</th>\n",
       "      <td>13645</td>\n",
       "    </tr>\n",
       "    <tr>\n",
       "      <th>13646</th>\n",
       "      <td>13646</td>\n",
       "    </tr>\n",
       "    <tr>\n",
       "      <th>13647</th>\n",
       "      <td>13647</td>\n",
       "    </tr>\n",
       "    <tr>\n",
       "      <th>13648</th>\n",
       "      <td>13648</td>\n",
       "    </tr>\n",
       "    <tr>\n",
       "      <th>13649</th>\n",
       "      <td>13649</td>\n",
       "    </tr>\n",
       "  </tbody>\n",
       "</table>\n",
       "<p>13650 rows × 1 columns</p>\n",
       "</div>"
      ],
      "text/plain": [
       "       user_id\n",
       "0            0\n",
       "1            1\n",
       "2            2\n",
       "3            3\n",
       "4            4\n",
       "...        ...\n",
       "13645    13645\n",
       "13646    13646\n",
       "13647    13647\n",
       "13648    13648\n",
       "13649    13649\n",
       "\n",
       "[13650 rows x 1 columns]"
      ]
     },
     "execution_count": 23,
     "metadata": {},
     "output_type": "execute_result"
    }
   ],
   "source": [
    "test_users = pd.read_csv('../input/recommender-system-2021-challenge-polimi/data_target_users_test.csv')\n",
    "test_users"
   ]
  },
  {
   "cell_type": "code",
   "execution_count": 24,
   "id": "12722626",
   "metadata": {
    "execution": {
     "iopub.execute_input": "2021-11-19T17:38:02.927467Z",
     "iopub.status.busy": "2021-11-19T17:38:02.926524Z",
     "iopub.status.idle": "2021-11-19T17:38:29.030539Z",
     "shell.execute_reply": "2021-11-19T17:38:29.029983Z",
     "shell.execute_reply.started": "2021-11-19T17:32:48.077381Z"
    },
    "papermill": {
     "duration": 26.131464,
     "end_time": "2021-11-19T17:38:29.030674",
     "exception": false,
     "start_time": "2021-11-19T17:38:02.899210",
     "status": "completed"
    },
    "tags": []
   },
   "outputs": [],
   "source": [
    "user_id = test_users['user_id']\n",
    "recommendations = []\n",
    "for user in user_id:\n",
    "    recommendations.append(topPopRecommender.recommend(user,at = 10))"
   ]
  },
  {
   "cell_type": "code",
   "execution_count": 25,
   "id": "8d98a271",
   "metadata": {
    "execution": {
     "iopub.execute_input": "2021-11-19T17:38:29.082665Z",
     "iopub.status.busy": "2021-11-19T17:38:29.079756Z",
     "iopub.status.idle": "2021-11-19T17:38:29.747862Z",
     "shell.execute_reply": "2021-11-19T17:38:29.748413Z",
     "shell.execute_reply.started": "2021-11-19T17:33:14.023725Z"
    },
    "papermill": {
     "duration": 0.69453,
     "end_time": "2021-11-19T17:38:29.748595",
     "exception": false,
     "start_time": "2021-11-19T17:38:29.054065",
     "status": "completed"
    },
    "tags": []
   },
   "outputs": [],
   "source": [
    "for index in range(len(recommendations)):\n",
    "    recommendations[index]=np.array(recommendations[index])\n",
    "    \n",
    "test_users['item_list']= recommendations\n",
    "test_users['item_list'] = pd.DataFrame([str(line).strip('[').strip(']').replace(\"'\",\"\") for line in test_users['item_list']])\n",
    "test_users.to_csv('submission.csv', index=False)"
   ]
  }
 ],
 "metadata": {
  "kernelspec": {
   "display_name": "Python 3",
   "language": "python",
   "name": "python3"
  },
  "language_info": {
   "codemirror_mode": {
    "name": "ipython",
    "version": 3
   },
   "file_extension": ".py",
   "mimetype": "text/x-python",
   "name": "python",
   "nbconvert_exporter": "python",
   "pygments_lexer": "ipython3",
   "version": "3.7.10"
  },
  "papermill": {
   "default_parameters": {},
   "duration": 76.825403,
   "end_time": "2021-11-19T17:38:30.482783",
   "environment_variables": {},
   "exception": null,
   "input_path": "__notebook__.ipynb",
   "output_path": "__notebook__.ipynb",
   "parameters": {},
   "start_time": "2021-11-19T17:37:13.657380",
   "version": "2.3.3"
  }
 },
 "nbformat": 4,
 "nbformat_minor": 5
}
